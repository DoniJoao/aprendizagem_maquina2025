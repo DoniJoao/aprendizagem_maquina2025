{
  "cells": [
    {
      "cell_type": "markdown",
      "metadata": {
        "id": "view-in-github",
        "colab_type": "text"
      },
      "source": [
        "<a href=\"https://colab.research.google.com/github/DoniJoao/aprendizagem_maquina2025/blob/main/09_data_distributions.ipynb\" target=\"_parent\"><img src=\"https://colab.research.google.com/assets/colab-badge.svg\" alt=\"Open In Colab\"/></a>"
      ]
    },
    {
      "cell_type": "markdown",
      "id": "liable-hayes",
      "metadata": {
        "id": "liable-hayes"
      },
      "source": [
        "# 1. Probability Distributions"
      ]
    },
    {
      "cell_type": "markdown",
      "id": "orange-bracket",
      "metadata": {
        "id": "orange-bracket"
      },
      "source": [
        "## 1.2. Binomial Distribution"
      ]
    },
    {
      "cell_type": "markdown",
      "id": "thick-genesis",
      "metadata": {
        "id": "thick-genesis"
      },
      "source": [
        "<img src=\"./imgs/binomial_distribution_formula.png\" width=500/>"
      ]
    },
    {
      "cell_type": "markdown",
      "id": "completed-frame",
      "metadata": {
        "id": "completed-frame"
      },
      "source": [
        "### Exercise 1"
      ]
    },
    {
      "cell_type": "markdown",
      "id": "centered-poverty",
      "metadata": {
        "id": "centered-poverty"
      },
      "source": [
        "In an admission test for the Data Science specialization, **10 questions** with  **3 possible choices** in each question.<br/>\n",
        "**Each question scores equally**. Suppose that a candidate has not been prepared for the test. She decided to guess all answers.<br/>\n",
        "Let the test has the **maximum score of 10** and **cut-off score of 5** for being approved for the next stage.<br/>\n",
        "\n",
        "Provide the _probability_ that this candidate will **get 5 questions right**, and the _probability_ that she will **advance to the next stage of the test**.<br/><br/>\n"
      ]
    },
    {
      "cell_type": "markdown",
      "id": "formed-internet",
      "metadata": {
        "id": "formed-internet"
      },
      "source": [
        "#### Is this a Binomial experiment?"
      ]
    },
    {
      "cell_type": "markdown",
      "id": "wireless-intersection",
      "metadata": {
        "id": "wireless-intersection"
      },
      "source": [
        "#### 1. How many trials (n)? (Fixed number of identical trials)"
      ]
    },
    {
      "cell_type": "code",
      "execution_count": null,
      "id": "optional-charles",
      "metadata": {
        "id": "optional-charles"
      },
      "outputs": [],
      "source": [
        "# number of trials == number of questions\n",
        "n = 10"
      ]
    },
    {
      "cell_type": "markdown",
      "id": "tough-iraqi",
      "metadata": {
        "id": "tough-iraqi"
      },
      "source": [
        "#### 2. Are the trials independent?"
      ]
    },
    {
      "cell_type": "markdown",
      "id": "damaged-updating",
      "metadata": {
        "id": "damaged-updating"
      },
      "source": [
        "Yes. One option chosen for a given question does not influence the chosen answer for the other questions."
      ]
    },
    {
      "cell_type": "markdown",
      "id": "polished-glance",
      "metadata": {
        "id": "polished-glance"
      },
      "source": [
        "#### 3. Are only two outcomes possible per trial?"
      ]
    },
    {
      "cell_type": "markdown",
      "id": "parallel-settle",
      "metadata": {
        "id": "parallel-settle"
      },
      "source": [
        "Yes. The candidate has two possibilities: **hit** or **miss** the question."
      ]
    },
    {
      "cell_type": "markdown",
      "id": "bigger-planning",
      "metadata": {
        "id": "bigger-planning"
      },
      "source": [
        "#### 4. What is the probability of success (p) and failure (q)?"
      ]
    },
    {
      "cell_type": "code",
      "id": "fantastic-occurrence",
      "metadata": {
        "jupyter": {
          "is_executing": true
        },
        "id": "fantastic-occurrence"
      },
      "source": [
        "# question == trial\n",
        "n_choices_per_question = 3"
      ],
      "outputs": [],
      "execution_count": null
    },
    {
      "cell_type": "code",
      "execution_count": null,
      "id": "hearing-midwest",
      "metadata": {
        "id": "hearing-midwest"
      },
      "outputs": [],
      "source": [
        "# prob. of a question hit\n",
        "p = 1 / n_choices_per_question"
      ]
    },
    {
      "cell_type": "code",
      "execution_count": null,
      "id": "settled-costume",
      "metadata": {
        "colab": {
          "base_uri": "https://localhost:8080/"
        },
        "id": "settled-costume",
        "outputId": "a23d3b06-94b0-44ba-e738-eb73d3fc7c8b"
      },
      "outputs": [
        {
          "output_type": "execute_result",
          "data": {
            "text/plain": [
              "0.6666666666666667"
            ]
          },
          "metadata": {},
          "execution_count": 4
        }
      ],
      "source": [
        "# prob. of a question miss\n",
        "q = 1 - p\n",
        "q"
      ]
    },
    {
      "cell_type": "markdown",
      "id": "prerequisite-textbook",
      "metadata": {
        "id": "prerequisite-textbook"
      },
      "source": [
        "Therefore, it is a **Binomial experiment**.\n",
        "\n",
        "**Random variable X**: number of hit questions."
      ]
    },
    {
      "cell_type": "markdown",
      "id": "grand-jenny",
      "metadata": {
        "id": "grand-jenny"
      },
      "source": [
        "<br/>\n",
        "\n",
        "#### Q1. What is the _probability_ that the candidate will get 5 questions right?\n",
        "\n"
      ]
    },
    {
      "cell_type": "markdown",
      "id": "disciplinary-pastor",
      "metadata": {
        "id": "disciplinary-pastor"
      },
      "source": [
        "#### What is the total number of events that you want to get successes (x)?"
      ]
    },
    {
      "cell_type": "code",
      "execution_count": null,
      "id": "accepting-version",
      "metadata": {
        "id": "accepting-version"
      },
      "outputs": [],
      "source": [
        "x = 5"
      ]
    },
    {
      "cell_type": "code",
      "source": [
        "!pip install scipy"
      ],
      "metadata": {
        "colab": {
          "base_uri": "https://localhost:8080/"
        },
        "id": "yHcAKzn3wspU",
        "outputId": "bd803769-9879-42db-e537-936815cc9fc1"
      },
      "id": "yHcAKzn3wspU",
      "execution_count": null,
      "outputs": [
        {
          "output_type": "stream",
          "name": "stdout",
          "text": [
            "Requirement already satisfied: scipy in /usr/local/lib/python3.11/dist-packages (1.14.1)\n",
            "Requirement already satisfied: numpy<2.3,>=1.23.5 in /usr/local/lib/python3.11/dist-packages (from scipy) (2.0.2)\n"
          ]
        }
      ]
    },
    {
      "cell_type": "markdown",
      "id": "incident-prayer",
      "metadata": {
        "id": "incident-prayer"
      },
      "source": [
        "##### Solution 1"
      ]
    },
    {
      "cell_type": "code",
      "execution_count": null,
      "id": "dedicated-functionality",
      "metadata": {
        "id": "dedicated-functionality"
      },
      "outputs": [],
      "source": [
        "from scipy.special import comb"
      ]
    },
    {
      "cell_type": "code",
      "execution_count": null,
      "id": "lightweight-photographer",
      "metadata": {
        "colab": {
          "base_uri": "https://localhost:8080/"
        },
        "id": "lightweight-photographer",
        "outputId": "526093e2-fc15-4611-917f-beb225f43d9d"
      },
      "outputs": [
        {
          "output_type": "execute_result",
          "data": {
            "text/plain": [
              "np.float64(0.13656454808718185)"
            ]
          },
          "metadata": {},
          "execution_count": 8
        }
      ],
      "source": [
        "prob = comb(n, x)*(p**x)*(q**(n-x))\n",
        "prob"
      ]
    },
    {
      "cell_type": "markdown",
      "id": "unexpected-carbon",
      "metadata": {
        "id": "unexpected-carbon"
      },
      "source": [
        "##### Solution 2"
      ]
    },
    {
      "cell_type": "code",
      "execution_count": null,
      "id": "premium-logging",
      "metadata": {
        "id": "premium-logging"
      },
      "outputs": [],
      "source": [
        "from scipy.stats import binom"
      ]
    },
    {
      "cell_type": "code",
      "execution_count": null,
      "id": "fiscal-purse",
      "metadata": {
        "colab": {
          "base_uri": "https://localhost:8080/"
        },
        "id": "fiscal-purse",
        "outputId": "b14b7a93-6140-4e67-bf8c-3ad05f70a2d3"
      },
      "outputs": [
        {
          "output_type": "execute_result",
          "data": {
            "text/plain": [
              "np.float64(0.13656454808718146)"
            ]
          },
          "metadata": {},
          "execution_count": 10
        }
      ],
      "source": [
        "prob_scy = binom.pmf(x, n, p)\n",
        "prob_scy"
      ]
    },
    {
      "cell_type": "markdown",
      "id": "still-subject",
      "metadata": {
        "id": "still-subject"
      },
      "source": [
        "<br/>\n",
        "\n",
        "#### Q2. How likely is the candidate to pass the test? (What is the _probability_ for that?)\n",
        "<center><img src=\"./imgs/binomial_distribution_ex_Q2.png\" width=500/></center>"
      ]
    },
    {
      "cell_type": "markdown",
      "id": "decimal-criterion",
      "metadata": {
        "id": "decimal-criterion"
      },
      "source": [
        "##### Solution 1"
      ]
    },
    {
      "cell_type": "code",
      "execution_count": null,
      "id": "legendary-payment",
      "metadata": {
        "id": "legendary-payment"
      },
      "outputs": [],
      "source": [
        "prob = 0.0\n",
        "for x in range(5, 11):\n",
        "  prob += binom.pmf(x, n, p)"
      ]
    },
    {
      "cell_type": "code",
      "execution_count": null,
      "id": "49feb057-98bd-4a18-93e9-5ebf2d7f036b",
      "metadata": {
        "colab": {
          "base_uri": "https://localhost:8080/"
        },
        "id": "49feb057-98bd-4a18-93e9-5ebf2d7f036b",
        "outputId": "4d85dbaa-ef9d-4cb1-a52d-33b038710875"
      },
      "outputs": [
        {
          "output_type": "execute_result",
          "data": {
            "text/plain": [
              "np.float64(0.21312808006909476)"
            ]
          },
          "metadata": {},
          "execution_count": 12
        }
      ],
      "source": [
        "prob"
      ]
    },
    {
      "cell_type": "markdown",
      "id": "polar-france",
      "metadata": {
        "id": "polar-france"
      },
      "source": [
        "##### Solution 2"
      ]
    },
    {
      "cell_type": "code",
      "execution_count": null,
      "id": "angry-dress",
      "metadata": {
        "id": "angry-dress"
      },
      "outputs": [],
      "source": []
    },
    {
      "cell_type": "markdown",
      "id": "regulation-example",
      "metadata": {
        "id": "regulation-example"
      },
      "source": [
        "##### Solution 3\n",
        "https://docs.scipy.org/doc/scipy/reference/generated/scipy.stats.binom.html\n"
      ]
    },
    {
      "cell_type": "code",
      "execution_count": null,
      "id": "dressed-championship",
      "metadata": {
        "id": "dressed-championship"
      },
      "outputs": [],
      "source": []
    },
    {
      "cell_type": "markdown",
      "id": "turkish-pressing",
      "metadata": {
        "id": "turkish-pressing"
      },
      "source": [
        "<br/>\n",
        "\n",
        "### Exercise 2\n",
        "In the last World Chess Championship, **the proportion of female participants was 60%.** <br/>\n",
        "**The total of teams, with 12 members, in this year's championship is 30.** <br/>\n",
        "According to these information, **how many teams should be formed by 8 women?** <br/><br/>\n",
        "\n"
      ]
    },
    {
      "cell_type": "markdown",
      "id": "eleven-framework",
      "metadata": {
        "id": "eleven-framework"
      },
      "source": [
        "Let's first calculate the probability of a team has 8 women."
      ]
    },
    {
      "cell_type": "markdown",
      "id": "parallel-poster",
      "metadata": {
        "id": "parallel-poster"
      },
      "source": [
        "#### 1. How many trials (n)? (Fixed number of identical trials)"
      ]
    },
    {
      "cell_type": "code",
      "execution_count": null,
      "id": "offshore-tuesday",
      "metadata": {
        "id": "offshore-tuesday"
      },
      "outputs": [],
      "source": []
    },
    {
      "cell_type": "markdown",
      "id": "composed-syntax",
      "metadata": {
        "id": "composed-syntax"
      },
      "source": [
        "#### 2. Are the trials independent?"
      ]
    },
    {
      "cell_type": "markdown",
      "id": "soviet-kelly",
      "metadata": {
        "id": "soviet-kelly"
      },
      "source": [
        "Yes. The gender of each member is independent."
      ]
    },
    {
      "cell_type": "markdown",
      "id": "measured-underwear",
      "metadata": {
        "id": "measured-underwear"
      },
      "source": [
        "#### 3. Are only two outcomes possible per trial?"
      ]
    },
    {
      "cell_type": "markdown",
      "id": "gothic-impression",
      "metadata": {
        "id": "gothic-impression"
      },
      "source": [
        "Yes: woman (success) and others (failure)."
      ]
    },
    {
      "cell_type": "markdown",
      "id": "bound-vacuum",
      "metadata": {
        "id": "bound-vacuum"
      },
      "source": [
        "#### 4. What is the probability of success (p) and failure (q)?"
      ]
    },
    {
      "cell_type": "code",
      "execution_count": null,
      "id": "certain-pakistan",
      "metadata": {
        "id": "certain-pakistan"
      },
      "outputs": [],
      "source": []
    },
    {
      "cell_type": "code",
      "execution_count": null,
      "id": "ecafc2b1-ee14-4348-911a-21577a145282",
      "metadata": {
        "id": "ecafc2b1-ee14-4348-911a-21577a145282"
      },
      "outputs": [],
      "source": []
    },
    {
      "cell_type": "markdown",
      "id": "ranking-excerpt",
      "metadata": {
        "id": "ranking-excerpt"
      },
      "source": [
        "#### What is the total number of events that you want to get successes (x)?"
      ]
    },
    {
      "cell_type": "code",
      "execution_count": null,
      "id": "white-requirement",
      "metadata": {
        "id": "white-requirement"
      },
      "outputs": [],
      "source": [
        "x = 8\n",
        "x"
      ]
    },
    {
      "cell_type": "markdown",
      "id": "humanitarian-gazette",
      "metadata": {
        "id": "humanitarian-gazette"
      },
      "source": [
        "#### Q: How many teams (out of 30) should be formed by 8 women?"
      ]
    },
    {
      "cell_type": "code",
      "execution_count": null,
      "id": "absolute-demonstration",
      "metadata": {
        "id": "absolute-demonstration"
      },
      "outputs": [],
      "source": []
    },
    {
      "cell_type": "markdown",
      "id": "shared-flight",
      "metadata": {
        "id": "shared-flight"
      },
      "source": [
        "##### Solution"
      ]
    },
    {
      "cell_type": "markdown",
      "id": "endless-employer",
      "metadata": {
        "id": "endless-employer"
      },
      "source": [
        "#### mean = n_total_teams * prob"
      ]
    },
    {
      "cell_type": "code",
      "execution_count": null,
      "id": "surrounded-catalog",
      "metadata": {
        "id": "surrounded-catalog"
      },
      "outputs": [],
      "source": []
    },
    {
      "cell_type": "code",
      "execution_count": null,
      "id": "romantic-custody",
      "metadata": {
        "id": "romantic-custody"
      },
      "outputs": [],
      "source": []
    },
    {
      "cell_type": "markdown",
      "id": "8f4fa3e9-bd22-4362-bc24-33016d43369d",
      "metadata": {
        "id": "8f4fa3e9-bd22-4362-bc24-33016d43369d"
      },
      "source": [
        "<br/>\n",
        "\n",
        "### Exercise 3\n",
        "In a survey of **1000 people**, _30% identified as vegetarian_, _10% identified as vegan_, and _60% identified as neither vegetarian nor vegan_. If we select a random sample of _50 people_ from the survey respondents, what is the probability that **15 are vegetarian**? <br/><br/>\n",
        "\n"
      ]
    },
    {
      "cell_type": "markdown",
      "id": "1c73fce9-5161-4ba1-a77c-83900c542a1a",
      "metadata": {
        "id": "1c73fce9-5161-4ba1-a77c-83900c542a1a"
      },
      "source": [
        "#### Is this a Binomial experiment?"
      ]
    },
    {
      "cell_type": "markdown",
      "id": "a1d3ffd5-f476-4eb4-b146-d7ad312e4e94",
      "metadata": {
        "id": "a1d3ffd5-f476-4eb4-b146-d7ad312e4e94"
      },
      "source": [
        "#### 1. How many trials (n)? (Fixed number of identical trials)"
      ]
    },
    {
      "cell_type": "code",
      "execution_count": null,
      "id": "bd5e84ab-47bb-40fd-aba7-83c66b9f8b5f",
      "metadata": {
        "id": "bd5e84ab-47bb-40fd-aba7-83c66b9f8b5f"
      },
      "outputs": [],
      "source": [
        "n = 15"
      ]
    },
    {
      "cell_type": "markdown",
      "id": "9b687029-d3a3-4faa-8022-b802915bc803",
      "metadata": {
        "id": "9b687029-d3a3-4faa-8022-b802915bc803"
      },
      "source": [
        "#### 2. Are the trials independent?"
      ]
    },
    {
      "cell_type": "markdown",
      "id": "7831a5c7-b3fc-4024-92c7-74a9bd6b91a7",
      "metadata": {
        "id": "7831a5c7-b3fc-4024-92c7-74a9bd6b91a7"
      },
      "source": [
        "Yes. One selected person does not influence the next chosen people."
      ]
    },
    {
      "cell_type": "markdown",
      "id": "93088528-de64-4db3-8169-b8603a0dc5d1",
      "metadata": {
        "id": "93088528-de64-4db3-8169-b8603a0dc5d1"
      },
      "source": [
        "#### 3. Are only two outcomes possible per trial?"
      ]
    },
    {
      "cell_type": "markdown",
      "id": "d9e45a3b-530b-4643-b8a9-a3be37973ec4",
      "metadata": {
        "id": "d9e45a3b-530b-4643-b8a9-a3be37973ec4"
      },
      "source": [
        "Although there are three posibilities: _vegetarian_, _vega_, _none of both_, the question is related to ***vegetarian***. Hence, we can interpret this problem as **binary**:\n",
        "- success: vegetarian\n",
        "- failure: non-vegetarian"
      ]
    },
    {
      "cell_type": "markdown",
      "id": "2e89d98a-f014-414c-b1ca-757e0638bc1e",
      "metadata": {
        "id": "2e89d98a-f014-414c-b1ca-757e0638bc1e"
      },
      "source": [
        "#### 4. What is the probability of success (p) and failure (q)?"
      ]
    },
    {
      "cell_type": "code",
      "execution_count": null,
      "id": "26a09eb2-8901-46c6-8d7a-a5da0d38d1d5",
      "metadata": {
        "id": "26a09eb2-8901-46c6-8d7a-a5da0d38d1d5"
      },
      "outputs": [],
      "source": [
        "p = 0.30"
      ]
    },
    {
      "cell_type": "markdown",
      "id": "ea6f6397-c8bf-44d9-9fab-b6642f58a590",
      "metadata": {
        "id": "ea6f6397-c8bf-44d9-9fab-b6642f58a590"
      },
      "source": [
        "#### Q: If we select a random sample of _50 people_ from the survey respondents, what is the probability that **15 are vegetarian**?"
      ]
    },
    {
      "cell_type": "code",
      "execution_count": null,
      "id": "dfc92fec-1951-44f6-a255-0ffd623c5313",
      "metadata": {
        "id": "dfc92fec-1951-44f6-a255-0ffd623c5313"
      },
      "outputs": [],
      "source": []
    },
    {
      "cell_type": "code",
      "execution_count": null,
      "id": "9927ecc4-8125-4b7c-8839-14154a56eea4",
      "metadata": {
        "id": "9927ecc4-8125-4b7c-8839-14154a56eea4"
      },
      "outputs": [],
      "source": []
    },
    {
      "cell_type": "markdown",
      "id": "15400158-d49e-4835-9837-e8e6a2e7c9ed",
      "metadata": {
        "id": "15400158-d49e-4835-9837-e8e6a2e7c9ed"
      },
      "source": [
        "<br/>\n",
        "\n",
        "## 1.3. Multinomial Distribution"
      ]
    },
    {
      "cell_type": "markdown",
      "id": "a6e9e129-934a-4d00-b3fd-b522b55eec38",
      "metadata": {
        "id": "a6e9e129-934a-4d00-b3fd-b522b55eec38"
      },
      "source": [
        "<img src=\"./imgs/multinomial_distribution_formula.png\" width=800/>"
      ]
    },
    {
      "cell_type": "markdown",
      "id": "7054603c-fece-4277-9646-3430bfbc6ac4",
      "metadata": {
        "id": "7054603c-fece-4277-9646-3430bfbc6ac4"
      },
      "source": [
        "### Exercise 1\n",
        "Three card players play a series of matches. The probability that **player A** will win any game is **20%**, the probability that **player B** will win is **30%**, and the probability **player C** will win is **50%**."
      ]
    },
    {
      "cell_type": "code",
      "execution_count": null,
      "id": "9c21ca72-ace4-4b30-b748-64ce7ba181de",
      "metadata": {
        "id": "9c21ca72-ace4-4b30-b748-64ce7ba181de"
      },
      "outputs": [],
      "source": [
        "x_A = 1\n",
        "x_B = 2\n",
        "x_C = 3\n",
        "\n"
      ]
    },
    {
      "cell_type": "markdown",
      "id": "acadafec-b989-4eac-825f-3e0b0fd395a1",
      "metadata": {
        "id": "acadafec-b989-4eac-825f-3e0b0fd395a1"
      },
      "source": [
        "#### Q1. If they play 6 games, what is the probability that player A will win 1 game, player B will win 2 games, and player C will win 3?\n",
        "$P(X=[1, 2, 3])=P(X_1=1, X_2=2, X_3=3)$"
      ]
    },
    {
      "cell_type": "code",
      "execution_count": null,
      "id": "840f7c7f-71b0-4396-bdf4-0b4543511916",
      "metadata": {
        "id": "840f7c7f-71b0-4396-bdf4-0b4543511916"
      },
      "outputs": [],
      "source": []
    },
    {
      "cell_type": "code",
      "execution_count": null,
      "id": "0191491f-b9d3-490d-ac64-1de05e0c9ae3",
      "metadata": {
        "id": "0191491f-b9d3-490d-ac64-1de05e0c9ae3"
      },
      "outputs": [],
      "source": []
    },
    {
      "cell_type": "markdown",
      "id": "f7f4e90a-c833-40c0-b6c4-d99e96d77cb5",
      "metadata": {
        "id": "f7f4e90a-c833-40c0-b6c4-d99e96d77cb5"
      },
      "source": [
        "##### Solution 1 (from scratch):"
      ]
    },
    {
      "cell_type": "code",
      "execution_count": null,
      "id": "7967cb80-0fed-421e-885d-db6056632ada",
      "metadata": {
        "id": "7967cb80-0fed-421e-885d-db6056632ada"
      },
      "outputs": [],
      "source": [
        "from math import factorial\n",
        "comb = (factorial(n))/(factorial(x_A))/(factorial(x_B))/(factorial(x_C))\n",
        "prob = comb * (p_A)"
      ]
    },
    {
      "cell_type": "markdown",
      "id": "46e68780-073b-47da-beed-cf7c12beb6c8",
      "metadata": {
        "id": "46e68780-073b-47da-beed-cf7c12beb6c8"
      },
      "source": [
        "##### Solution 2:"
      ]
    },
    {
      "cell_type": "code",
      "execution_count": 15,
      "id": "31d6e758-75f7-4784-b216-c7c85a445a1a",
      "metadata": {
        "id": "31d6e758-75f7-4784-b216-c7c85a445a1a",
        "colab": {
          "base_uri": "https://localhost:8080/",
          "height": 339
        },
        "outputId": "6f6cec43-dfe1-4b6a-87e3-4e39bb741460"
      },
      "outputs": [
        {
          "output_type": "error",
          "ename": "IndexError",
          "evalue": "too many indices for array: array is 0-dimensional, but 1 were indexed",
          "traceback": [
            "\u001b[0;31m---------------------------------------------------------------------------\u001b[0m",
            "\u001b[0;31mIndexError\u001b[0m                                Traceback (most recent call last)",
            "\u001b[0;32m<ipython-input-15-a04e81bfb2ee>\u001b[0m in \u001b[0;36m<cell line: 0>\u001b[0;34m()\u001b[0m\n\u001b[1;32m      1\u001b[0m \u001b[0;32mfrom\u001b[0m \u001b[0mscipy\u001b[0m\u001b[0;34m.\u001b[0m\u001b[0mstats\u001b[0m \u001b[0;32mimport\u001b[0m \u001b[0mmultinomial\u001b[0m\u001b[0;34m\u001b[0m\u001b[0;34m\u001b[0m\u001b[0m\n\u001b[0;32m----> 2\u001b[0;31m \u001b[0mprob_scy\u001b[0m \u001b[0;34m=\u001b[0m \u001b[0mmultinomial\u001b[0m\u001b[0;34m.\u001b[0m\u001b[0mpmf\u001b[0m\u001b[0;34m(\u001b[0m\u001b[0mx\u001b[0m\u001b[0;34m,\u001b[0m \u001b[0mn\u001b[0m\u001b[0;34m,\u001b[0m \u001b[0mp\u001b[0m\u001b[0;34m)\u001b[0m\u001b[0;34m\u001b[0m\u001b[0;34m\u001b[0m\u001b[0m\n\u001b[0m\u001b[1;32m      3\u001b[0m \u001b[0mprob_scy\u001b[0m\u001b[0;34m\u001b[0m\u001b[0;34m\u001b[0m\u001b[0m\n",
            "\u001b[0;32m/usr/local/lib/python3.11/dist-packages/scipy/stats/_multivariate.py\u001b[0m in \u001b[0;36mpmf\u001b[0;34m(self, x, n, p)\u001b[0m\n\u001b[1;32m   3366\u001b[0m         \u001b[0;34m%\u001b[0m\u001b[0;34m(\u001b[0m\u001b[0m_doc_callparams_note\u001b[0m\u001b[0;34m)\u001b[0m\u001b[0ms\u001b[0m\u001b[0;34m\u001b[0m\u001b[0;34m\u001b[0m\u001b[0m\n\u001b[1;32m   3367\u001b[0m         \"\"\"\n\u001b[0;32m-> 3368\u001b[0;31m         \u001b[0;32mreturn\u001b[0m \u001b[0mnp\u001b[0m\u001b[0;34m.\u001b[0m\u001b[0mexp\u001b[0m\u001b[0;34m(\u001b[0m\u001b[0mself\u001b[0m\u001b[0;34m.\u001b[0m\u001b[0mlogpmf\u001b[0m\u001b[0;34m(\u001b[0m\u001b[0mx\u001b[0m\u001b[0;34m,\u001b[0m \u001b[0mn\u001b[0m\u001b[0;34m,\u001b[0m \u001b[0mp\u001b[0m\u001b[0;34m)\u001b[0m\u001b[0;34m)\u001b[0m\u001b[0;34m\u001b[0m\u001b[0;34m\u001b[0m\u001b[0m\n\u001b[0m\u001b[1;32m   3369\u001b[0m \u001b[0;34m\u001b[0m\u001b[0m\n\u001b[1;32m   3370\u001b[0m     \u001b[0;32mdef\u001b[0m \u001b[0mmean\u001b[0m\u001b[0;34m(\u001b[0m\u001b[0mself\u001b[0m\u001b[0;34m,\u001b[0m \u001b[0mn\u001b[0m\u001b[0;34m,\u001b[0m \u001b[0mp\u001b[0m\u001b[0;34m)\u001b[0m\u001b[0;34m:\u001b[0m\u001b[0;34m\u001b[0m\u001b[0;34m\u001b[0m\u001b[0m\n",
            "\u001b[0;32m/usr/local/lib/python3.11/dist-packages/scipy/stats/_multivariate.py\u001b[0m in \u001b[0;36mlogpmf\u001b[0;34m(self, x, n, p)\u001b[0m\n\u001b[1;32m   3334\u001b[0m         \u001b[0;34m%\u001b[0m\u001b[0;34m(\u001b[0m\u001b[0m_doc_callparams_note\u001b[0m\u001b[0;34m)\u001b[0m\u001b[0ms\u001b[0m\u001b[0;34m\u001b[0m\u001b[0;34m\u001b[0m\u001b[0m\n\u001b[1;32m   3335\u001b[0m         \"\"\"\n\u001b[0;32m-> 3336\u001b[0;31m         \u001b[0mn\u001b[0m\u001b[0;34m,\u001b[0m \u001b[0mp\u001b[0m\u001b[0;34m,\u001b[0m \u001b[0mnpcond\u001b[0m \u001b[0;34m=\u001b[0m \u001b[0mself\u001b[0m\u001b[0;34m.\u001b[0m\u001b[0m_process_parameters\u001b[0m\u001b[0;34m(\u001b[0m\u001b[0mn\u001b[0m\u001b[0;34m,\u001b[0m \u001b[0mp\u001b[0m\u001b[0;34m)\u001b[0m\u001b[0;34m\u001b[0m\u001b[0;34m\u001b[0m\u001b[0m\n\u001b[0m\u001b[1;32m   3337\u001b[0m         \u001b[0mx\u001b[0m\u001b[0;34m,\u001b[0m \u001b[0mxcond\u001b[0m \u001b[0;34m=\u001b[0m \u001b[0mself\u001b[0m\u001b[0;34m.\u001b[0m\u001b[0m_process_quantiles\u001b[0m\u001b[0;34m(\u001b[0m\u001b[0mx\u001b[0m\u001b[0;34m,\u001b[0m \u001b[0mn\u001b[0m\u001b[0;34m,\u001b[0m \u001b[0mp\u001b[0m\u001b[0;34m)\u001b[0m\u001b[0;34m\u001b[0m\u001b[0;34m\u001b[0m\u001b[0m\n\u001b[1;32m   3338\u001b[0m \u001b[0;34m\u001b[0m\u001b[0m\n",
            "\u001b[0;32m/usr/local/lib/python3.11/dist-packages/scipy/stats/_multivariate.py\u001b[0m in \u001b[0;36m_process_parameters\u001b[0;34m(self, n, p, eps)\u001b[0m\n\u001b[1;32m   3264\u001b[0m         \"\"\"\n\u001b[1;32m   3265\u001b[0m         \u001b[0mp\u001b[0m \u001b[0;34m=\u001b[0m \u001b[0mnp\u001b[0m\u001b[0;34m.\u001b[0m\u001b[0marray\u001b[0m\u001b[0;34m(\u001b[0m\u001b[0mp\u001b[0m\u001b[0;34m,\u001b[0m \u001b[0mdtype\u001b[0m\u001b[0;34m=\u001b[0m\u001b[0mnp\u001b[0m\u001b[0;34m.\u001b[0m\u001b[0mfloat64\u001b[0m\u001b[0;34m,\u001b[0m \u001b[0mcopy\u001b[0m\u001b[0;34m=\u001b[0m\u001b[0;32mTrue\u001b[0m\u001b[0;34m)\u001b[0m\u001b[0;34m\u001b[0m\u001b[0;34m\u001b[0m\u001b[0m\n\u001b[0;32m-> 3266\u001b[0;31m         \u001b[0mp_adjusted\u001b[0m \u001b[0;34m=\u001b[0m \u001b[0;36m1.\u001b[0m \u001b[0;34m-\u001b[0m \u001b[0mp\u001b[0m\u001b[0;34m[\u001b[0m\u001b[0;34m...\u001b[0m\u001b[0;34m,\u001b[0m \u001b[0;34m:\u001b[0m\u001b[0;34m-\u001b[0m\u001b[0;36m1\u001b[0m\u001b[0;34m]\u001b[0m\u001b[0;34m.\u001b[0m\u001b[0msum\u001b[0m\u001b[0;34m(\u001b[0m\u001b[0maxis\u001b[0m\u001b[0;34m=\u001b[0m\u001b[0;34m-\u001b[0m\u001b[0;36m1\u001b[0m\u001b[0;34m)\u001b[0m\u001b[0;34m\u001b[0m\u001b[0;34m\u001b[0m\u001b[0m\n\u001b[0m\u001b[1;32m   3267\u001b[0m         \u001b[0mi_adjusted\u001b[0m \u001b[0;34m=\u001b[0m \u001b[0mnp\u001b[0m\u001b[0;34m.\u001b[0m\u001b[0mabs\u001b[0m\u001b[0;34m(\u001b[0m\u001b[0mp_adjusted\u001b[0m\u001b[0;34m)\u001b[0m \u001b[0;34m>\u001b[0m \u001b[0meps\u001b[0m\u001b[0;34m\u001b[0m\u001b[0;34m\u001b[0m\u001b[0m\n\u001b[1;32m   3268\u001b[0m         \u001b[0mp\u001b[0m\u001b[0;34m[\u001b[0m\u001b[0mi_adjusted\u001b[0m\u001b[0;34m,\u001b[0m \u001b[0;34m-\u001b[0m\u001b[0;36m1\u001b[0m\u001b[0;34m]\u001b[0m \u001b[0;34m=\u001b[0m \u001b[0mp_adjusted\u001b[0m\u001b[0;34m[\u001b[0m\u001b[0mi_adjusted\u001b[0m\u001b[0;34m]\u001b[0m\u001b[0;34m\u001b[0m\u001b[0;34m\u001b[0m\u001b[0m\n",
            "\u001b[0;31mIndexError\u001b[0m: too many indices for array: array is 0-dimensional, but 1 were indexed"
          ]
        }
      ],
      "source": [
        "from scipy.stats import multinomial\n",
        "prob_scy = multinomial.pmf(x, n, p)\n",
        "prob_scy"
      ]
    },
    {
      "cell_type": "markdown",
      "id": "9ae1cf75-61ba-4d99-9464-1365a9ed4695",
      "metadata": {
        "id": "9ae1cf75-61ba-4d99-9464-1365a9ed4695"
      },
      "source": [
        "#### Q2. If they play 10 games, what is the expected number of wins for each player?"
      ]
    },
    {
      "cell_type": "code",
      "execution_count": 14,
      "id": "5a690a53-26a7-4e64-8f08-20fb6dbf9517",
      "metadata": {
        "id": "5a690a53-26a7-4e64-8f08-20fb6dbf9517",
        "colab": {
          "base_uri": "https://localhost:8080/",
          "height": 193
        },
        "outputId": "4bd2dc93-11ca-4597-dc8d-0775ba657806"
      },
      "outputs": [
        {
          "output_type": "error",
          "ename": "NameError",
          "evalue": "name 'p_A' is not defined",
          "traceback": [
            "\u001b[0;31m---------------------------------------------------------------------------\u001b[0m",
            "\u001b[0;31mNameError\u001b[0m                                 Traceback (most recent call last)",
            "\u001b[0;32m<ipython-input-14-520c5c782794>\u001b[0m in \u001b[0;36m<cell line: 0>\u001b[0;34m()\u001b[0m\n\u001b[1;32m      1\u001b[0m \u001b[0mn\u001b[0m\u001b[0;34m=\u001b[0m\u001b[0;36m10\u001b[0m\u001b[0;34m\u001b[0m\u001b[0;34m\u001b[0m\u001b[0m\n\u001b[0;32m----> 2\u001b[0;31m \u001b[0mexp_A\u001b[0m \u001b[0;34m=\u001b[0m \u001b[0mn\u001b[0m \u001b[0;34m*\u001b[0m \u001b[0mp_A\u001b[0m\u001b[0;34m\u001b[0m\u001b[0;34m\u001b[0m\u001b[0m\n\u001b[0m\u001b[1;32m      3\u001b[0m \u001b[0mexp_B\u001b[0m \u001b[0;34m=\u001b[0m \u001b[0mn\u001b[0m \u001b[0;34m*\u001b[0m \u001b[0mp_B\u001b[0m\u001b[0;34m\u001b[0m\u001b[0;34m\u001b[0m\u001b[0m\n\u001b[1;32m      4\u001b[0m \u001b[0mexp_C\u001b[0m \u001b[0;34m=\u001b[0m \u001b[0mn\u001b[0m \u001b[0;34m*\u001b[0m \u001b[0mp_C\u001b[0m\u001b[0;34m\u001b[0m\u001b[0;34m\u001b[0m\u001b[0m\n",
            "\u001b[0;31mNameError\u001b[0m: name 'p_A' is not defined"
          ]
        }
      ],
      "source": [
        "n=10\n",
        "exp_A = n * p_A\n",
        "exp_B = n * p_B\n",
        "exp_C = n * p_C"
      ]
    },
    {
      "cell_type": "code",
      "execution_count": null,
      "id": "8e7209e5-a55f-43c3-a4d1-e06c77d43101",
      "metadata": {
        "id": "8e7209e5-a55f-43c3-a4d1-e06c77d43101"
      },
      "outputs": [],
      "source": []
    },
    {
      "cell_type": "code",
      "execution_count": null,
      "id": "e57c7d6c-f6d7-4b82-9e14-a5ff73d356aa",
      "metadata": {
        "id": "e57c7d6c-f6d7-4b82-9e14-a5ff73d356aa"
      },
      "outputs": [],
      "source": [
        "print('Expected number of customers who prefer product:')\n",
        "print(f'\\tA: {exp_A}')\n",
        "print(f'\\tA: {exp_B}')\n",
        "print(f'\\tA: {exp_C}')"
      ]
    },
    {
      "cell_type": "markdown",
      "id": "7b36fd17-6d4a-416a-a7a5-8e3b45602fbe",
      "metadata": {
        "id": "7b36fd17-6d4a-416a-a7a5-8e3b45602fbe"
      },
      "source": [
        "\n",
        "<br/>\n",
        "\n",
        "### Exercise 2\n",
        "In a survey of **1000 people**, _30% identified as vegetarian_, _10% identified as vegan_, and _60%\n",
        "identified as neither vegetarian nor vegan_. If we select a random sample of _50 people_ from the survey respondents, what is the probability that **15 are vegetarian** and **5 are vegan**?"
      ]
    },
    {
      "cell_type": "code",
      "execution_count": 17,
      "id": "c455ef52-28ac-4b0f-925d-a14a2eabc5f9",
      "metadata": {
        "id": "c455ef52-28ac-4b0f-925d-a14a2eabc5f9"
      },
      "outputs": [],
      "source": [
        "from scipy.stats import multivariate_hypergeom"
      ]
    },
    {
      "cell_type": "code",
      "execution_count": 26,
      "id": "9bdd13f3-a635-4f0b-a622-49500339fb69",
      "metadata": {
        "id": "9bdd13f3-a635-4f0b-a622-49500339fb69"
      },
      "outputs": [],
      "source": [
        "population = [300, 100, 600]"
      ]
    },
    {
      "cell_type": "code",
      "execution_count": 27,
      "id": "786f4d61-7cae-4dd5-ba09-e0ff6c3789bf",
      "metadata": {
        "id": "786f4d61-7cae-4dd5-ba09-e0ff6c3789bf"
      },
      "outputs": [],
      "source": [
        "sample_size = 50"
      ]
    },
    {
      "cell_type": "code",
      "source": [
        "desired_counts = [15, 5, 30] # 15 + 5 + 30 = 50"
      ],
      "metadata": {
        "id": "o0-JK5SC6VgQ"
      },
      "id": "o0-JK5SC6VgQ",
      "execution_count": 28,
      "outputs": []
    },
    {
      "cell_type": "code",
      "source": [
        "prob = multivariate_hypergeom.pmf(desired_counts, population, sample_size)"
      ],
      "metadata": {
        "id": "eABIgiz06k0q"
      },
      "id": "eABIgiz06k0q",
      "execution_count": 29,
      "outputs": []
    },
    {
      "cell_type": "code",
      "source": [
        "print(f\"Probability: {prob:.8f}\") # Output: Probability: 0.0234053 (=0.234%)"
      ],
      "metadata": {
        "colab": {
          "base_uri": "https://localhost:8080/"
        },
        "id": "Sq3-Z2ba6y0p",
        "outputId": "4a6bc159-6994-47b7-9353-400298a65a05"
      },
      "id": "Sq3-Z2ba6y0p",
      "execution_count": 30,
      "outputs": [
        {
          "output_type": "stream",
          "name": "stdout",
          "text": [
            "Probability: 0.02439720\n"
          ]
        }
      ]
    },
    {
      "cell_type": "code",
      "source": [
        "from math import comb\n",
        "\n",
        "numerator = comb(300, 15) * comb(100, 5) * comb(600, 30)\n",
        "denominator = comb(1000, 50)\n",
        "manual_prob = numerator / denominator\n",
        "\n",
        "print(f\"Manual Probability: {manual_prob:.8f}\")  # Matches the SciPy result!"
      ],
      "metadata": {
        "colab": {
          "base_uri": "https://localhost:8080/"
        },
        "id": "5dlp4Zaw7lXF",
        "outputId": "d207da92-af27-441b-b06a-44c95c3e3d9e"
      },
      "id": "5dlp4Zaw7lXF",
      "execution_count": 23,
      "outputs": [
        {
          "output_type": "stream",
          "name": "stdout",
          "text": [
            "Manual Probability: 0.02439720\n"
          ]
        }
      ]
    },
    {
      "cell_type": "markdown",
      "id": "482b2214-da85-427b-bc13-ef3a5d46dc2e",
      "metadata": {
        "id": "482b2214-da85-427b-bc13-ef3a5d46dc2e"
      },
      "source": [
        "$P(X=[15, 5, 30])=P(X_1=15,X_2=5,X_3=30)$"
      ]
    },
    {
      "cell_type": "code",
      "execution_count": null,
      "id": "41a595d5-b7fd-494d-9ba4-13f1abf00ab1",
      "metadata": {
        "id": "41a595d5-b7fd-494d-9ba4-13f1abf00ab1"
      },
      "outputs": [],
      "source": [
        "# https://docs.scipy.org/doc/scipy/reference/generated/scipy.stats.multinomial.html\n",
        "\n"
      ]
    },
    {
      "cell_type": "markdown",
      "id": "special-listening",
      "metadata": {
        "id": "special-listening"
      },
      "source": [
        "<br/>\n",
        "\n",
        "## 1.4. Poisson Distribution"
      ]
    },
    {
      "cell_type": "markdown",
      "id": "animal-handbook",
      "metadata": {
        "id": "animal-handbook"
      },
      "source": [
        "<img src=\"./imgs/poisson_distribution_formula.png\" width=600/>"
      ]
    },
    {
      "cell_type": "markdown",
      "id": "lucky-ability",
      "metadata": {
        "id": "lucky-ability"
      },
      "source": [
        "### Exercise 1"
      ]
    },
    {
      "cell_type": "markdown",
      "id": "informational-reservoir",
      "metadata": {
        "id": "informational-reservoir"
      },
      "source": [
        "A restaurant receives **20 orders per hour**. What is the chance that, at a given hour chosen at random, the restaurant will receive **15 orders**?"
      ]
    },
    {
      "cell_type": "markdown",
      "id": "completed-julian",
      "metadata": {
        "id": "completed-julian"
      },
      "source": [
        "#### What is the mean number of occurrences per hour? (𝜆)"
      ]
    },
    {
      "cell_type": "code",
      "execution_count": null,
      "id": "transparent-sunday",
      "metadata": {
        "id": "transparent-sunday"
      },
      "outputs": [],
      "source": []
    },
    {
      "cell_type": "markdown",
      "id": "floppy-avenue",
      "metadata": {
        "id": "floppy-avenue"
      },
      "source": [
        "#### What is the desired number of occurrences within the period of time? (x)"
      ]
    },
    {
      "cell_type": "code",
      "execution_count": null,
      "id": "local-vatican",
      "metadata": {
        "id": "local-vatican"
      },
      "outputs": [],
      "source": []
    },
    {
      "cell_type": "markdown",
      "id": "massive-indicator",
      "metadata": {
        "id": "massive-indicator"
      },
      "source": [
        "##### Solution 1"
      ]
    },
    {
      "cell_type": "code",
      "execution_count": null,
      "id": "absent-canadian",
      "metadata": {
        "id": "absent-canadian"
      },
      "outputs": [],
      "source": []
    },
    {
      "cell_type": "code",
      "execution_count": null,
      "id": "a8b52a90-5141-4cc4-a0ab-1579eb341319",
      "metadata": {
        "id": "a8b52a90-5141-4cc4-a0ab-1579eb341319"
      },
      "outputs": [],
      "source": []
    },
    {
      "cell_type": "markdown",
      "id": "activated-seminar",
      "metadata": {
        "id": "activated-seminar"
      },
      "source": [
        "##### Solution 2\n",
        "https://docs.scipy.org/doc/scipy/reference/generated/scipy.stats.poisson.html"
      ]
    },
    {
      "cell_type": "code",
      "execution_count": null,
      "id": "modified-imagination",
      "metadata": {
        "id": "modified-imagination"
      },
      "outputs": [],
      "source": []
    },
    {
      "cell_type": "code",
      "execution_count": null,
      "id": "noticed-condition",
      "metadata": {
        "id": "noticed-condition"
      },
      "outputs": [],
      "source": []
    },
    {
      "cell_type": "markdown",
      "id": "amber-roulette",
      "metadata": {
        "id": "amber-roulette"
      },
      "source": [
        "### Exercise 2"
      ]
    },
    {
      "cell_type": "markdown",
      "id": "functioning-dress",
      "metadata": {
        "id": "functioning-dress"
      },
      "source": [
        "Vehicles pass through a junction on a busy road at an average rate of 300 per hour. <br/>"
      ]
    },
    {
      "cell_type": "markdown",
      "id": "individual-invention",
      "metadata": {
        "id": "individual-invention"
      },
      "source": [
        "#### **Q1**: Find the probability that none passes in a given minute."
      ]
    },
    {
      "cell_type": "markdown",
      "id": "loved-stereo",
      "metadata": {
        "id": "loved-stereo"
      },
      "source": [
        "##### The average number of cars per minute (𝜆)"
      ]
    },
    {
      "cell_type": "code",
      "execution_count": null,
      "id": "duplicate-definition",
      "metadata": {
        "id": "duplicate-definition"
      },
      "outputs": [],
      "source": []
    },
    {
      "cell_type": "markdown",
      "id": "compliant-cancer",
      "metadata": {
        "id": "compliant-cancer"
      },
      "source": [
        "##### What is the desired number of occurrences within the period of time? (x)"
      ]
    },
    {
      "cell_type": "code",
      "execution_count": null,
      "id": "victorian-creature",
      "metadata": {
        "id": "victorian-creature"
      },
      "outputs": [],
      "source": []
    },
    {
      "cell_type": "code",
      "execution_count": null,
      "id": "light-worship",
      "metadata": {
        "id": "light-worship"
      },
      "outputs": [],
      "source": []
    },
    {
      "cell_type": "markdown",
      "id": "biblical-distinction",
      "metadata": {
        "id": "biblical-distinction"
      },
      "source": [
        "#### **Q2**: What is the expected number (average number) passing in two minutes?"
      ]
    },
    {
      "cell_type": "code",
      "execution_count": null,
      "id": "emerging-brooks",
      "metadata": {
        "id": "emerging-brooks"
      },
      "outputs": [],
      "source": []
    },
    {
      "cell_type": "markdown",
      "id": "atomic-numbers",
      "metadata": {
        "id": "atomic-numbers"
      },
      "source": [
        "#### **Q3**: Find the probability that this expected number actually passes through in a given two-minute period.\n",
        "Given that the average rate of vehicles that pass through in a busy road in **two minutes** is **10**, which is the probability of passing through **exactly 10 vehicles** in a given two-minute period?"
      ]
    },
    {
      "cell_type": "markdown",
      "id": "lyric-deployment",
      "metadata": {
        "id": "lyric-deployment"
      },
      "source": [
        "##### The average number of cars per two minutes (𝜆)"
      ]
    },
    {
      "cell_type": "code",
      "execution_count": null,
      "id": "collective-eating",
      "metadata": {
        "id": "collective-eating"
      },
      "outputs": [],
      "source": []
    },
    {
      "cell_type": "markdown",
      "id": "amber-richards",
      "metadata": {
        "id": "amber-richards"
      },
      "source": [
        "##### What is the desired number of occurrences within the period of time? (x)"
      ]
    },
    {
      "cell_type": "code",
      "execution_count": null,
      "id": "after-burke",
      "metadata": {
        "id": "after-burke"
      },
      "outputs": [],
      "source": []
    },
    {
      "cell_type": "code",
      "execution_count": null,
      "id": "vocal-explanation",
      "metadata": {
        "id": "vocal-explanation"
      },
      "outputs": [],
      "source": []
    },
    {
      "cell_type": "markdown",
      "id": "indirect-alaska",
      "metadata": {
        "id": "indirect-alaska"
      },
      "source": [
        "### Exercise 3"
      ]
    },
    {
      "cell_type": "markdown",
      "id": "gentle-vatican",
      "metadata": {
        "id": "gentle-vatican"
      },
      "source": [
        "Suppose the **average number of lions** seen on a **1-day safari** is **5**. What is the probability that tourists will see **fewer than four lions** on the next 1-day safari?"
      ]
    },
    {
      "cell_type": "markdown",
      "id": "innovative-majority",
      "metadata": {
        "id": "innovative-majority"
      },
      "source": [
        "#### What is the mean number of lions seen on a 1-day safari? (𝜆)"
      ]
    },
    {
      "cell_type": "code",
      "execution_count": null,
      "id": "second-diploma",
      "metadata": {
        "id": "second-diploma"
      },
      "outputs": [],
      "source": []
    },
    {
      "cell_type": "markdown",
      "id": "changed-bosnia",
      "metadata": {
        "id": "changed-bosnia"
      },
      "source": [
        "#### What is the desired number of occurrences within the period of time? (x)\n",
        "x = 0, 1, 2, or 3"
      ]
    },
    {
      "cell_type": "markdown",
      "id": "dutch-annual",
      "metadata": {
        "id": "dutch-annual"
      },
      "source": [
        "<img src=\"./imgs/poisson_distribution_ex3.png\" width=400/>"
      ]
    },
    {
      "cell_type": "markdown",
      "id": "relevant-certificate",
      "metadata": {
        "id": "relevant-certificate"
      },
      "source": [
        "##### Solution 1"
      ]
    },
    {
      "cell_type": "code",
      "execution_count": null,
      "id": "skilled-reserve",
      "metadata": {
        "id": "skilled-reserve"
      },
      "outputs": [],
      "source": []
    },
    {
      "cell_type": "markdown",
      "id": "buried-stone",
      "metadata": {
        "id": "buried-stone"
      },
      "source": [
        "##### Solution 2"
      ]
    },
    {
      "cell_type": "code",
      "execution_count": null,
      "id": "metric-information",
      "metadata": {
        "id": "metric-information"
      },
      "outputs": [],
      "source": []
    },
    {
      "cell_type": "markdown",
      "id": "characteristic-convention",
      "metadata": {
        "id": "characteristic-convention"
      },
      "source": [
        "<br/>\n",
        "\n",
        "## 1.5. Normal Distribution"
      ]
    },
    {
      "cell_type": "markdown",
      "id": "stylish-spouse",
      "metadata": {
        "id": "stylish-spouse"
      },
      "source": [
        "<img src=\"./imgs/standard_normal_distribution_formula.png\" width=700/>"
      ]
    },
    {
      "cell_type": "markdown",
      "id": "historic-possibility",
      "metadata": {
        "id": "historic-possibility"
      },
      "source": [
        "### Exercise 1"
      ]
    },
    {
      "cell_type": "markdown",
      "id": "unusual-albania",
      "metadata": {
        "id": "unusual-albania"
      },
      "source": [
        "When studying the height of the inhabitants of Pompeia, it was found that its **distribution is approximately normal**, with **mean** of 1.70 m and **standard deviation** of 0.1."
      ]
    },
    {
      "cell_type": "code",
      "execution_count": null,
      "id": "senior-escape",
      "metadata": {
        "id": "senior-escape"
      },
      "outputs": [],
      "source": []
    },
    {
      "cell_type": "markdown",
      "id": "naked-practice",
      "metadata": {
        "id": "naked-practice"
      },
      "source": [
        "#### Q1: Probability of a person, selected by chance, is less than 1.8m tall? P(X < 1.8) = P(X ≤ 1.8)"
      ]
    },
    {
      "cell_type": "code",
      "execution_count": null,
      "id": "positive-pricing",
      "metadata": {
        "id": "positive-pricing"
      },
      "outputs": [],
      "source": []
    },
    {
      "cell_type": "code",
      "execution_count": null,
      "id": "geological-history",
      "metadata": {
        "id": "geological-history"
      },
      "outputs": [],
      "source": []
    },
    {
      "cell_type": "markdown",
      "id": "changing-detection",
      "metadata": {
        "id": "changing-detection"
      },
      "source": [
        "##### **P(X ≤ 1.8) = P(Z ≤ 1.000)**"
      ]
    },
    {
      "cell_type": "markdown",
      "id": "compressed-partnership",
      "metadata": {
        "id": "compressed-partnership"
      },
      "source": [
        "##### Solution 1 - Using the z-score table\n",
        "https://www.math.arizona.edu/~rsims/ma464/standardnormaltable.pdf"
      ]
    },
    {
      "cell_type": "markdown",
      "id": "israeli-macedonia",
      "metadata": {
        "id": "israeli-macedonia"
      },
      "source": [
        "Checking the z-score table, **P(Z ≤ 1.000)=0.84134**"
      ]
    },
    {
      "cell_type": "markdown",
      "id": "chinese-election",
      "metadata": {
        "id": "chinese-election"
      },
      "source": [
        "##### Solution 2 - Using scipy"
      ]
    },
    {
      "cell_type": "code",
      "execution_count": null,
      "id": "handled-benchmark",
      "metadata": {
        "id": "handled-benchmark"
      },
      "outputs": [],
      "source": []
    },
    {
      "cell_type": "code",
      "execution_count": null,
      "id": "adjacent-savings",
      "metadata": {
        "id": "adjacent-savings"
      },
      "outputs": [],
      "source": []
    },
    {
      "cell_type": "markdown",
      "id": "eb0bb558-5f14-49a7-bd44-6c8303afe1ea",
      "metadata": {
        "id": "eb0bb558-5f14-49a7-bd44-6c8303afe1ea"
      },
      "source": [
        "##### Solution 3 - Using scipy"
      ]
    },
    {
      "cell_type": "code",
      "execution_count": null,
      "id": "8368cb37-762d-4b7e-986c-8620f07fd270",
      "metadata": {
        "id": "8368cb37-762d-4b7e-986c-8620f07fd270"
      },
      "outputs": [],
      "source": []
    },
    {
      "cell_type": "markdown",
      "id": "professional-synthesis",
      "metadata": {
        "id": "professional-synthesis"
      },
      "source": [
        "#### Q2: Probability of a person, selected by chance, is between 1.6m and 1.8m tall? P(1.6 <= X <= 1.8)\n",
        "P(1.6 <= X <= 1.8) = P(X ≤ 1.8) - P(X ≤ 1.6)"
      ]
    },
    {
      "cell_type": "code",
      "execution_count": null,
      "id": "unknown-ultimate",
      "metadata": {
        "id": "unknown-ultimate"
      },
      "outputs": [],
      "source": []
    },
    {
      "cell_type": "code",
      "execution_count": null,
      "id": "editorial-ontario",
      "metadata": {
        "id": "editorial-ontario"
      },
      "outputs": [],
      "source": []
    },
    {
      "cell_type": "markdown",
      "id": "graduate-genetics",
      "metadata": {
        "id": "graduate-genetics"
      },
      "source": [
        "**P(1.6 <= X <= 1.8) = P(Z ≤ 1.0) - P(Z ≤ -0.9999)**"
      ]
    },
    {
      "cell_type": "markdown",
      "id": "approximate-damage",
      "metadata": {
        "id": "approximate-damage"
      },
      "source": [
        "##### Solution 1 - Using the z-score table\n",
        "https://www.math.arizona.edu/~rsims/ma464/standardnormaltable.pdf"
      ]
    },
    {
      "cell_type": "code",
      "execution_count": null,
      "id": "professional-music",
      "metadata": {
        "id": "professional-music"
      },
      "outputs": [],
      "source": []
    },
    {
      "cell_type": "code",
      "execution_count": null,
      "id": "ac26e83f-de38-4b60-972e-b1c42657a783",
      "metadata": {
        "id": "ac26e83f-de38-4b60-972e-b1c42657a783"
      },
      "outputs": [],
      "source": []
    },
    {
      "cell_type": "markdown",
      "id": "soviet-cooperative",
      "metadata": {
        "id": "soviet-cooperative"
      },
      "source": [
        "##### Solution 2 - Using scipy"
      ]
    },
    {
      "cell_type": "code",
      "execution_count": null,
      "id": "round-welding",
      "metadata": {
        "id": "round-welding"
      },
      "outputs": [],
      "source": []
    },
    {
      "cell_type": "markdown",
      "id": "66a56ed0-0fbc-4353-ab06-53516cd149ad",
      "metadata": {
        "id": "66a56ed0-0fbc-4353-ab06-53516cd149ad"
      },
      "source": [
        "##### Solution 3 - Using scipy"
      ]
    },
    {
      "cell_type": "code",
      "execution_count": null,
      "id": "08a5fbcc-c202-40fe-9807-33b5f963ef6d",
      "metadata": {
        "id": "08a5fbcc-c202-40fe-9807-33b5f963ef6d"
      },
      "outputs": [],
      "source": []
    },
    {
      "cell_type": "markdown",
      "id": "improving-excerpt",
      "metadata": {
        "id": "improving-excerpt"
      },
      "source": [
        "#### Q3: Probability of a person, selected by chance, is over 1.9m tall? P (X >= 1.9)\n",
        "P(X >= 1.9) = 1 - P(X ≤ 1.9)"
      ]
    },
    {
      "cell_type": "code",
      "execution_count": null,
      "id": "marine-treaty",
      "metadata": {
        "id": "marine-treaty"
      },
      "outputs": [],
      "source": []
    },
    {
      "cell_type": "code",
      "execution_count": null,
      "id": "accessible-lighting",
      "metadata": {
        "id": "accessible-lighting"
      },
      "outputs": [],
      "source": []
    },
    {
      "cell_type": "markdown",
      "id": "fallen-perception",
      "metadata": {
        "id": "fallen-perception"
      },
      "source": [
        "**P(X >= 1.9) = P(Z >= 1.99999) = 1 - P(Z ≤ 1.99999)**"
      ]
    },
    {
      "cell_type": "markdown",
      "id": "powerful-collection",
      "metadata": {
        "id": "powerful-collection"
      },
      "source": [
        "##### Solution 1 - Using the z-score table\n",
        "https://www.math.arizona.edu/~rsims/ma464/standardnormaltable.pdf"
      ]
    },
    {
      "cell_type": "code",
      "execution_count": null,
      "id": "rapid-lighter",
      "metadata": {
        "id": "rapid-lighter"
      },
      "outputs": [],
      "source": []
    },
    {
      "cell_type": "markdown",
      "id": "radio-joint",
      "metadata": {
        "id": "radio-joint"
      },
      "source": [
        "##### Solution 2 - Using scipy"
      ]
    },
    {
      "cell_type": "code",
      "execution_count": null,
      "id": "preceding-ireland",
      "metadata": {
        "id": "preceding-ireland"
      },
      "outputs": [],
      "source": []
    },
    {
      "cell_type": "markdown",
      "id": "3d089192-62b3-48ce-9ae5-815d68532806",
      "metadata": {
        "id": "3d089192-62b3-48ce-9ae5-815d68532806"
      },
      "source": [
        "##### Solution 3 - Using scipy"
      ]
    },
    {
      "cell_type": "code",
      "execution_count": null,
      "id": "71493684-bebe-4465-8cec-d21993e7b469",
      "metadata": {
        "id": "71493684-bebe-4465-8cec-d21993e7b469"
      },
      "outputs": [],
      "source": []
    },
    {
      "cell_type": "markdown",
      "id": "according-reporter",
      "metadata": {
        "id": "according-reporter"
      },
      "source": [
        "<br/>\n",
        "\n",
        "# 2. Central Limit Theorem\n",
        "\n",
        "**Dataset:** https://www.kaggle.com/datasets/fedesoriano/stroke-prediction-dataset"
      ]
    },
    {
      "cell_type": "code",
      "execution_count": null,
      "id": "d84ccf26-6518-48e2-b31d-3291ba255bea",
      "metadata": {
        "id": "d84ccf26-6518-48e2-b31d-3291ba255bea"
      },
      "outputs": [],
      "source": [
        "import pandas as pd\n",
        "import seaborn as sns\n",
        "import matplotlib.pyplot as plt\n",
        "import numpy as np"
      ]
    },
    {
      "cell_type": "code",
      "execution_count": null,
      "id": "statewide-westminster",
      "metadata": {
        "id": "statewide-westminster"
      },
      "outputs": [],
      "source": [
        "# dataset with data about stroke patients\n",
        "df = pd.read_csv('./datasets/healthcare-dataset-stroke-data.csv')"
      ]
    },
    {
      "cell_type": "code",
      "execution_count": null,
      "id": "crazy-alfred",
      "metadata": {
        "id": "crazy-alfred"
      },
      "outputs": [],
      "source": [
        "df.head()"
      ]
    },
    {
      "cell_type": "code",
      "execution_count": null,
      "id": "limiting-hardwood",
      "metadata": {
        "id": "limiting-hardwood"
      },
      "outputs": [],
      "source": [
        "population = df['avg_glucose_level']\n",
        "population"
      ]
    },
    {
      "cell_type": "code",
      "execution_count": null,
      "id": "5b8175a1-4064-4b59-b53e-0d733a8c4728",
      "metadata": {
        "id": "5b8175a1-4064-4b59-b53e-0d733a8c4728"
      },
      "outputs": [],
      "source": [
        "population_mean = population.mean()\n",
        "population_mean"
      ]
    },
    {
      "cell_type": "code",
      "execution_count": null,
      "id": "09d5038b-ebb8-4abb-a2d6-82b7ccf7b1d4",
      "metadata": {
        "id": "09d5038b-ebb8-4abb-a2d6-82b7ccf7b1d4"
      },
      "outputs": [],
      "source": [
        "population_std = population.std()\n",
        "population_std"
      ]
    },
    {
      "cell_type": "code",
      "execution_count": null,
      "id": "centered-vacation",
      "metadata": {
        "id": "centered-vacation"
      },
      "outputs": [],
      "source": [
        "plt.figure(figsize=(10,6))\n",
        "ax = sns.histplot(population, kde=True)  # the distribution is not normal\n",
        "ax.axvline(x=population_mean, color='red')\n",
        "ax.annotate(f'Population Mean\\n{population_mean:.2f}', xy=(population_mean + 5, 350))"
      ]
    },
    {
      "cell_type": "markdown",
      "id": "pressing-detail",
      "metadata": {
        "id": "pressing-detail"
      },
      "source": [
        "<br/>\n",
        "\n",
        "#### The data distribution of a sample does not necessarily follow the **normal distribution**"
      ]
    },
    {
      "cell_type": "code",
      "execution_count": null,
      "id": "exempt-bracket",
      "metadata": {
        "id": "exempt-bracket"
      },
      "outputs": [],
      "source": [
        "sample_100 = population.sample(100, random_state=999)"
      ]
    },
    {
      "cell_type": "code",
      "execution_count": null,
      "id": "nervous-enough",
      "metadata": {
        "id": "nervous-enough"
      },
      "outputs": [],
      "source": [
        "plt.figure(figsize=(10,6))\n",
        "sns.histplot(sample_100, kde=True)"
      ]
    },
    {
      "cell_type": "markdown",
      "id": "vocal-cemetery",
      "metadata": {
        "id": "vocal-cemetery"
      },
      "source": [
        "#### As the sample size increases, the **sampling distribution of the mean** approaches a **normal distribution** with the **sampling distribution’s mean** equals **the population mean**"
      ]
    },
    {
      "cell_type": "code",
      "execution_count": null,
      "id": "active-preliminary",
      "metadata": {
        "id": "active-preliminary"
      },
      "outputs": [],
      "source": [
        "# Dictionary where each key correspond to a sample size\n",
        "# For each sample size, there is a dataframe with 1000 samples associated to\n",
        "samples = {}\n",
        "\n",
        "for n in [5, 10, 30, 100, 1000]:\n",
        "    df_sample_size = pd.DataFrame()\n",
        "\n",
        "    for i in range(1000):\n",
        "        sample = population.sample(n)\n",
        "        sample.reset_index(drop=True, inplace=True)  # requires this \"trick\" to work\n",
        "        df_sample_size[f'Sample #{i}'] = sample\n",
        "\n",
        "    samples[n] = df_sample_size"
      ]
    },
    {
      "cell_type": "code",
      "execution_count": null,
      "id": "fundamental-chancellor",
      "metadata": {
        "id": "fundamental-chancellor"
      },
      "outputs": [],
      "source": [
        "samples.keys()"
      ]
    },
    {
      "cell_type": "code",
      "execution_count": null,
      "id": "selective-thailand",
      "metadata": {
        "id": "selective-thailand"
      },
      "outputs": [],
      "source": [
        "samples[5]"
      ]
    },
    {
      "cell_type": "code",
      "execution_count": null,
      "id": "employed-australian",
      "metadata": {
        "id": "employed-australian"
      },
      "outputs": [],
      "source": [
        "samples[100]"
      ]
    },
    {
      "cell_type": "code",
      "execution_count": null,
      "id": "sought-impression",
      "metadata": {
        "id": "sought-impression"
      },
      "outputs": [],
      "source": [
        "# mean of each one of the 1000 samples with sample size of 100\n",
        "samples[100].mean()"
      ]
    },
    {
      "cell_type": "code",
      "execution_count": null,
      "id": "classified-trail",
      "metadata": {
        "id": "classified-trail"
      },
      "outputs": [],
      "source": [
        "sample_sizes = sorted(samples.keys())\n",
        "\n",
        "fig, axs = plt.subplots(1, 5, figsize=(24, 3))\n",
        "\n",
        "for i, n in enumerate(sample_sizes):\n",
        "    sampling_distribution = samples[n].mean()\n",
        "    mean_of_sampling_distribution = sampling_distribution.mean()\n",
        "\n",
        "    ax = sns.histplot(sampling_distribution, ax=axs[i])\n",
        "    axs[i].axvline(x=mean_of_sampling_distribution, color='red')\n",
        "    ax.annotate(f'Mean\\n{mean_of_sampling_distribution:.2f}', xy=(mean_of_sampling_distribution + 1, 120))\n",
        "    ax.spines['top'].set_visible(False)\n",
        "    ax.set_ylim([0, 130])"
      ]
    },
    {
      "cell_type": "markdown",
      "id": "hawaiian-south",
      "metadata": {
        "id": "hawaiian-south"
      },
      "source": [
        "#### Standard error"
      ]
    },
    {
      "cell_type": "markdown",
      "id": "controlled-doubt",
      "metadata": {
        "id": "controlled-doubt"
      },
      "source": [
        "<img src='./imgs/standard_error.png' width=150 />"
      ]
    },
    {
      "cell_type": "code",
      "execution_count": null,
      "id": "european-composite",
      "metadata": {
        "id": "european-composite"
      },
      "outputs": [],
      "source": [
        "population_std"
      ]
    },
    {
      "cell_type": "code",
      "execution_count": null,
      "id": "92a8ec9b-0513-43ed-a1ad-9c38b52252a3",
      "metadata": {
        "id": "92a8ec9b-0513-43ed-a1ad-9c38b52252a3"
      },
      "outputs": [],
      "source": [
        "sample_sizes"
      ]
    },
    {
      "cell_type": "code",
      "execution_count": null,
      "id": "6b693bff-8ca7-4099-b6b3-37f22f25b558",
      "metadata": {
        "id": "6b693bff-8ca7-4099-b6b3-37f22f25b558"
      },
      "outputs": [],
      "source": [
        "print(f'Population standard deviation = {population_std:.2f}\\n')\n",
        "\n",
        "for n in sample_sizes:\n",
        "    standard_error = population_std / np.sqrt(n)\n",
        "    print(f'Standard Error for n={n}: {standard_error:.2f}')"
      ]
    },
    {
      "cell_type": "markdown",
      "id": "olympic-malaysia",
      "metadata": {
        "id": "olympic-malaysia"
      },
      "source": [
        "**The larger the sample size, the smaller the standard error.**"
      ]
    },
    {
      "cell_type": "markdown",
      "id": "homeless-turkey",
      "metadata": {
        "id": "homeless-turkey"
      },
      "source": [
        "<br/>\n",
        "\n",
        "# 3. Confidence Interval"
      ]
    },
    {
      "cell_type": "markdown",
      "id": "gentle-popularity",
      "metadata": {
        "id": "gentle-popularity"
      },
      "source": [
        "<img src='./imgs/confidence_interval.png' width=700 />"
      ]
    },
    {
      "cell_type": "markdown",
      "id": "criminal-czech",
      "metadata": {
        "id": "criminal-czech"
      },
      "source": [
        "- A **90% level of confidence** has 𝜶 = 0.10 and **critical value** of 𝑧𝛼/2 = 1.64.\n",
        "- A **95% level of confidence** has 𝜶 = 0.05 and **critical value** of 𝑧𝛼/2 = 1.96.\n",
        "- A **99% level of confidence** has 𝜶 = 0.01 and **critical value** of 𝑧𝛼/2 = 2.58."
      ]
    },
    {
      "cell_type": "markdown",
      "id": "absent-ordinary",
      "metadata": {
        "id": "absent-ordinary"
      },
      "source": [
        "## Exercise 1\n",
        "Suppose the heights of the inhabitants of a city are **normally distributed** with **population standard deviation** of 20 cm.\n",
        "We measure the heights of **40** randomly chosen people, and get a **mean height** of 1.75 m.\n",
        "Construct a **confidence interval** for the population mean with a **significance level of 5%**."
      ]
    },
    {
      "cell_type": "markdown",
      "id": "broad-boost",
      "metadata": {
        "id": "broad-boost"
      },
      "source": [
        "### Sample size"
      ]
    },
    {
      "cell_type": "code",
      "execution_count": null,
      "id": "insured-dictionary",
      "metadata": {
        "id": "insured-dictionary"
      },
      "outputs": [],
      "source": []
    },
    {
      "cell_type": "markdown",
      "id": "imposed-howard",
      "metadata": {
        "id": "imposed-howard"
      },
      "source": [
        "### Population standard deviation and sample mean"
      ]
    },
    {
      "cell_type": "code",
      "execution_count": null,
      "id": "removable-digit",
      "metadata": {
        "id": "removable-digit"
      },
      "outputs": [],
      "source": []
    },
    {
      "cell_type": "code",
      "execution_count": null,
      "id": "appreciated-swift",
      "metadata": {
        "id": "appreciated-swift"
      },
      "outputs": [],
      "source": []
    },
    {
      "cell_type": "markdown",
      "id": "common-senate",
      "metadata": {
        "id": "common-senate"
      },
      "source": [
        "### Significance level (α)"
      ]
    },
    {
      "cell_type": "code",
      "execution_count": null,
      "id": "banned-bunch",
      "metadata": {
        "id": "banned-bunch"
      },
      "outputs": [],
      "source": []
    },
    {
      "cell_type": "markdown",
      "id": "vanilla-thermal",
      "metadata": {
        "id": "vanilla-thermal"
      },
      "source": [
        "### Confidence level (1 - α)"
      ]
    },
    {
      "cell_type": "code",
      "execution_count": null,
      "id": "recovered-bikini",
      "metadata": {
        "id": "recovered-bikini"
      },
      "outputs": [],
      "source": []
    },
    {
      "cell_type": "markdown",
      "id": "warming-modem",
      "metadata": {
        "id": "warming-modem"
      },
      "source": [
        "### Critical value ($𝒛_{𝜶/𝟐}$)"
      ]
    },
    {
      "cell_type": "code",
      "execution_count": null,
      "id": "automatic-effects",
      "metadata": {
        "id": "automatic-effects"
      },
      "outputs": [],
      "source": []
    },
    {
      "cell_type": "markdown",
      "id": "complete-newport",
      "metadata": {
        "id": "complete-newport"
      },
      "source": [
        "### Standard Error"
      ]
    },
    {
      "cell_type": "code",
      "execution_count": null,
      "id": "played-botswana",
      "metadata": {
        "id": "played-botswana"
      },
      "outputs": [],
      "source": []
    },
    {
      "cell_type": "markdown",
      "id": "functioning-purse",
      "metadata": {
        "id": "functioning-purse"
      },
      "source": [
        "### Margin of Error"
      ]
    },
    {
      "cell_type": "code",
      "execution_count": null,
      "id": "advance-disposition",
      "metadata": {
        "id": "advance-disposition"
      },
      "outputs": [],
      "source": []
    },
    {
      "cell_type": "markdown",
      "id": "graduate-cricket",
      "metadata": {
        "id": "graduate-cricket"
      },
      "source": [
        "### 95% Confidence Interval"
      ]
    },
    {
      "cell_type": "markdown",
      "id": "least-tension",
      "metadata": {
        "id": "least-tension"
      },
      "source": [
        "#### Solution 1 - manually"
      ]
    },
    {
      "cell_type": "code",
      "execution_count": null,
      "id": "revised-generator",
      "metadata": {
        "id": "revised-generator"
      },
      "outputs": [],
      "source": []
    },
    {
      "cell_type": "markdown",
      "id": "common-quarter",
      "metadata": {
        "id": "common-quarter"
      },
      "source": [
        "#### Solution 2 - Scipy\n",
        "https://docs.scipy.org/doc/scipy/reference/generated/scipy.stats.norm.html\n",
        "\n",
        "alpha ==> confidence level <br/>\n",
        "loc ==> sample mean  <br/>\n",
        "scale ==> standard error"
      ]
    },
    {
      "cell_type": "code",
      "execution_count": null,
      "id": "spread-collaboration",
      "metadata": {
        "id": "spread-collaboration"
      },
      "outputs": [],
      "source": []
    },
    {
      "cell_type": "markdown",
      "id": "anticipated-segment",
      "metadata": {
        "id": "anticipated-segment"
      },
      "source": [
        "## Exercise 2\n",
        "Given a dataset from stroke patients, we want to study their mean glucose level. <br/>\n",
        "For two samples of 100 and 1000 observations, provide a 95% confidence intervals for the following scenarios:\n",
        "\n",
        "**(a) Known population standard deviation** <br/>\n",
        "**(b) Unknown population standard deviation**\n",
        "\n",
        "**Dataset:** https://www.kaggle.com/fedesoriano/stroke-prediction-dataset"
      ]
    },
    {
      "cell_type": "code",
      "execution_count": null,
      "id": "tested-underwear",
      "metadata": {
        "id": "tested-underwear"
      },
      "outputs": [],
      "source": []
    },
    {
      "cell_type": "code",
      "execution_count": null,
      "id": "automotive-forwarding",
      "metadata": {
        "id": "automotive-forwarding"
      },
      "outputs": [],
      "source": []
    },
    {
      "cell_type": "code",
      "execution_count": null,
      "id": "round-newton",
      "metadata": {
        "id": "round-newton"
      },
      "outputs": [],
      "source": []
    },
    {
      "cell_type": "code",
      "execution_count": null,
      "id": "sacred-project",
      "metadata": {
        "id": "sacred-project"
      },
      "outputs": [],
      "source": []
    },
    {
      "cell_type": "markdown",
      "id": "affiliated-equality",
      "metadata": {
        "id": "affiliated-equality"
      },
      "source": [
        "#### Population Mean = 106.1476771037182"
      ]
    },
    {
      "cell_type": "code",
      "execution_count": null,
      "id": "killing-metallic",
      "metadata": {
        "id": "killing-metallic"
      },
      "outputs": [],
      "source": []
    },
    {
      "cell_type": "code",
      "execution_count": null,
      "id": "global-ranch",
      "metadata": {
        "tags": [],
        "id": "global-ranch"
      },
      "outputs": [],
      "source": []
    },
    {
      "cell_type": "code",
      "execution_count": null,
      "id": "apart-parker",
      "metadata": {
        "id": "apart-parker"
      },
      "outputs": [],
      "source": []
    },
    {
      "cell_type": "code",
      "execution_count": null,
      "id": "median-soccer",
      "metadata": {
        "id": "median-soccer"
      },
      "outputs": [],
      "source": []
    },
    {
      "cell_type": "code",
      "execution_count": null,
      "id": "secure-cleaning",
      "metadata": {
        "id": "secure-cleaning"
      },
      "outputs": [],
      "source": []
    },
    {
      "cell_type": "code",
      "execution_count": null,
      "id": "hungry-namibia",
      "metadata": {
        "id": "hungry-namibia"
      },
      "outputs": [],
      "source": []
    },
    {
      "cell_type": "markdown",
      "id": "buried-origin",
      "metadata": {
        "id": "buried-origin"
      },
      "source": [
        "#### **(a) Known population standard deviation, and sample sizes of 100 and 1000**"
      ]
    },
    {
      "cell_type": "markdown",
      "id": "analyzed-hands",
      "metadata": {
        "id": "analyzed-hands"
      },
      "source": [
        "#### Sample size 100"
      ]
    },
    {
      "cell_type": "code",
      "execution_count": null,
      "id": "differential-burton",
      "metadata": {
        "id": "differential-burton"
      },
      "outputs": [],
      "source": []
    },
    {
      "cell_type": "code",
      "execution_count": null,
      "id": "ranking-escape",
      "metadata": {
        "id": "ranking-escape"
      },
      "outputs": [],
      "source": []
    },
    {
      "cell_type": "code",
      "execution_count": null,
      "id": "parallel-signature",
      "metadata": {
        "id": "parallel-signature"
      },
      "outputs": [],
      "source": []
    },
    {
      "cell_type": "code",
      "execution_count": null,
      "id": "likely-wyoming",
      "metadata": {
        "id": "likely-wyoming"
      },
      "outputs": [],
      "source": []
    },
    {
      "cell_type": "markdown",
      "id": "nasty-moses",
      "metadata": {
        "id": "nasty-moses"
      },
      "source": [
        "#### Sample size 1000"
      ]
    },
    {
      "cell_type": "code",
      "execution_count": null,
      "id": "abstract-orleans",
      "metadata": {
        "id": "abstract-orleans"
      },
      "outputs": [],
      "source": []
    },
    {
      "cell_type": "code",
      "execution_count": null,
      "id": "indoor-aggregate",
      "metadata": {
        "id": "indoor-aggregate"
      },
      "outputs": [],
      "source": []
    },
    {
      "cell_type": "code",
      "execution_count": null,
      "id": "entire-product",
      "metadata": {
        "id": "entire-product"
      },
      "outputs": [],
      "source": []
    },
    {
      "cell_type": "code",
      "execution_count": null,
      "id": "clear-margin",
      "metadata": {
        "id": "clear-margin"
      },
      "outputs": [],
      "source": []
    },
    {
      "cell_type": "markdown",
      "id": "swedish-hopkins",
      "metadata": {
        "id": "swedish-hopkins"
      },
      "source": [
        "#### **(b) Unknown population standard deviation, and sample sizes of 100 and 1000**"
      ]
    },
    {
      "cell_type": "markdown",
      "id": "permanent-cameroon",
      "metadata": {
        "id": "permanent-cameroon"
      },
      "source": [
        "#### Sample size 100"
      ]
    },
    {
      "cell_type": "code",
      "execution_count": null,
      "id": "agricultural-export",
      "metadata": {
        "id": "agricultural-export"
      },
      "outputs": [],
      "source": []
    },
    {
      "cell_type": "code",
      "execution_count": null,
      "id": "romance-brother",
      "metadata": {
        "id": "romance-brother"
      },
      "outputs": [],
      "source": []
    },
    {
      "cell_type": "code",
      "execution_count": null,
      "id": "southeast-partner",
      "metadata": {
        "id": "southeast-partner"
      },
      "outputs": [],
      "source": []
    },
    {
      "cell_type": "code",
      "execution_count": null,
      "id": "noble-pledge",
      "metadata": {
        "id": "noble-pledge"
      },
      "outputs": [],
      "source": []
    },
    {
      "cell_type": "markdown",
      "id": "musical-andorra",
      "metadata": {
        "id": "musical-andorra"
      },
      "source": [
        "#### Sample size 1000"
      ]
    },
    {
      "cell_type": "code",
      "execution_count": null,
      "id": "continued-rating",
      "metadata": {
        "id": "continued-rating"
      },
      "outputs": [],
      "source": []
    },
    {
      "cell_type": "code",
      "execution_count": null,
      "id": "single-asset",
      "metadata": {
        "id": "single-asset"
      },
      "outputs": [],
      "source": []
    },
    {
      "cell_type": "code",
      "execution_count": null,
      "id": "expensive-astrology",
      "metadata": {
        "id": "expensive-astrology"
      },
      "outputs": [],
      "source": []
    },
    {
      "cell_type": "code",
      "execution_count": null,
      "id": "greatest-blair",
      "metadata": {
        "id": "greatest-blair"
      },
      "outputs": [],
      "source": []
    },
    {
      "cell_type": "markdown",
      "id": "closing-evans",
      "metadata": {
        "id": "closing-evans"
      },
      "source": [
        "# 4. Calculating Sample Sizes"
      ]
    },
    {
      "cell_type": "markdown",
      "id": "least-professional",
      "metadata": {
        "id": "least-professional"
      },
      "source": [
        "<img src='./imgs/calculating_sample_sizes.png' width=700/>"
      ]
    },
    {
      "cell_type": "markdown",
      "id": "polar-microphone",
      "metadata": {
        "id": "polar-microphone"
      },
      "source": [
        "## Exercise 1\n",
        "Suppose we want to investigate the **mean income** from the brazilian population. According to the last census, the **population standard deviation** is **R\\$ 4000,00**. Assuming a **95\\% confidence level** and a **margin of error** (with respect to the sample mean) of **R\\$ 100,00**, what should be the **sample size**?"
      ]
    },
    {
      "cell_type": "markdown",
      "id": "timely-midwest",
      "metadata": {
        "id": "timely-midwest"
      },
      "source": [
        "### Population standard deviation ($\\sigma$)"
      ]
    },
    {
      "cell_type": "code",
      "execution_count": null,
      "id": "headed-dakota",
      "metadata": {
        "id": "headed-dakota"
      },
      "outputs": [],
      "source": []
    },
    {
      "cell_type": "markdown",
      "id": "chicken-lottery",
      "metadata": {
        "id": "chicken-lottery"
      },
      "source": [
        "### Significance level ($\\alpha$)"
      ]
    },
    {
      "cell_type": "code",
      "execution_count": null,
      "id": "similar-causing",
      "metadata": {
        "id": "similar-causing"
      },
      "outputs": [],
      "source": []
    },
    {
      "cell_type": "markdown",
      "id": "labeled-definition",
      "metadata": {
        "id": "labeled-definition"
      },
      "source": [
        "### Critical value ($𝒛_{\\alpha/𝟐}$)"
      ]
    },
    {
      "cell_type": "code",
      "execution_count": null,
      "id": "alike-stick",
      "metadata": {
        "id": "alike-stick"
      },
      "outputs": [],
      "source": []
    },
    {
      "cell_type": "markdown",
      "id": "hazardous-american",
      "metadata": {
        "id": "hazardous-american"
      },
      "source": [
        "### Calculating the sample size (n)"
      ]
    },
    {
      "cell_type": "code",
      "execution_count": null,
      "id": "thrown-sector",
      "metadata": {
        "id": "thrown-sector"
      },
      "outputs": [],
      "source": []
    },
    {
      "cell_type": "markdown",
      "id": "drawn-jewelry",
      "metadata": {
        "id": "drawn-jewelry"
      },
      "source": [
        "## Exercise 2\n",
        "In a batch of **10,000 cans** of soda, a simple random sample of **200 cans** was collected to validation the amount of soda. The found **sample standard deviation** was **16 ml**. Each can costs **R\\$ 4,00** and is thrown away after the experiment.\n",
        "\n",
        "The manufacturer stipulates a **maximum error on the population average of only 4 ml**. To ensure a **95\\% confidence level** what sample size should be selected for this study? How much  will the company save in the next experiment/validation?"
      ]
    },
    {
      "cell_type": "markdown",
      "id": "important-young",
      "metadata": {
        "id": "important-young"
      },
      "source": [
        "### Population size (N)"
      ]
    },
    {
      "cell_type": "code",
      "execution_count": null,
      "id": "appropriate-sensitivity",
      "metadata": {
        "id": "appropriate-sensitivity"
      },
      "outputs": [],
      "source": []
    },
    {
      "cell_type": "markdown",
      "id": "southwest-terrorist",
      "metadata": {
        "id": "southwest-terrorist"
      },
      "source": [
        "### Calculating the critical value (z-score ==> $𝒛_{\\alpha/𝟐}$): 95% confidence level"
      ]
    },
    {
      "cell_type": "code",
      "execution_count": null,
      "id": "minimal-webcam",
      "metadata": {
        "id": "minimal-webcam"
      },
      "outputs": [],
      "source": []
    },
    {
      "cell_type": "markdown",
      "id": "green-measurement",
      "metadata": {
        "id": "green-measurement"
      },
      "source": [
        "### Calculating the sample standard deviation (s)"
      ]
    },
    {
      "cell_type": "code",
      "execution_count": null,
      "id": "embedded-upper",
      "metadata": {
        "id": "embedded-upper"
      },
      "outputs": [],
      "source": []
    },
    {
      "cell_type": "markdown",
      "id": "described-bracelet",
      "metadata": {
        "id": "described-bracelet"
      },
      "source": [
        "### Margin of Error (e)"
      ]
    },
    {
      "cell_type": "code",
      "execution_count": null,
      "id": "criminal-parade",
      "metadata": {
        "id": "criminal-parade"
      },
      "outputs": [],
      "source": []
    },
    {
      "cell_type": "markdown",
      "id": "fiscal-bangladesh",
      "metadata": {
        "id": "fiscal-bangladesh"
      },
      "source": [
        "### Calculating the sample size (n)"
      ]
    },
    {
      "cell_type": "code",
      "execution_count": null,
      "id": "varying-opportunity",
      "metadata": {
        "id": "varying-opportunity"
      },
      "outputs": [],
      "source": []
    },
    {
      "cell_type": "markdown",
      "id": "complimentary-assembly",
      "metadata": {
        "id": "complimentary-assembly"
      },
      "source": [
        "Note that the number of cans (sample size) necessary to meet the requirements is **61**. Therefore, it is not necessary to collect 200 samples as was done before, thus saving money."
      ]
    },
    {
      "cell_type": "markdown",
      "id": "wanted-burning",
      "metadata": {
        "id": "wanted-burning"
      },
      "source": [
        "### Savings"
      ]
    },
    {
      "cell_type": "code",
      "execution_count": null,
      "id": "instructional-sense",
      "metadata": {
        "id": "instructional-sense"
      },
      "outputs": [],
      "source": []
    },
    {
      "cell_type": "markdown",
      "id": "interior-garbage",
      "metadata": {
        "id": "interior-garbage"
      },
      "source": [
        "The company will save R$ 556 in the next experiments."
      ]
    },
    {
      "cell_type": "code",
      "execution_count": null,
      "id": "steady-aircraft",
      "metadata": {
        "id": "steady-aircraft"
      },
      "outputs": [],
      "source": []
    },
    {
      "cell_type": "markdown",
      "id": "superior-control",
      "metadata": {
        "id": "superior-control"
      },
      "source": [
        "# 5. Bootstrap Confidence Interval"
      ]
    },
    {
      "cell_type": "markdown",
      "id": "constant-teacher",
      "metadata": {
        "id": "constant-teacher"
      },
      "source": [
        "<img src='./imgs/bootstrap_confidence_interval.png' width=700 />"
      ]
    },
    {
      "cell_type": "markdown",
      "id": "matched-retirement",
      "metadata": {
        "id": "matched-retirement"
      },
      "source": [
        "## Exercise\n",
        "Given a dataset from stroke patients, we want to study their **mean glucose level**.\n",
        "Provide **95% bootstrap confidence intervals** for sample sizes of **100** and **1000**.\n",
        "\n",
        "**Dataset:** https://www.kaggle.com/fedesoriano/stroke-prediction-dataset"
      ]
    },
    {
      "cell_type": "code",
      "execution_count": null,
      "id": "brown-graphic",
      "metadata": {
        "id": "brown-graphic"
      },
      "outputs": [],
      "source": []
    },
    {
      "cell_type": "code",
      "execution_count": null,
      "id": "disciplinary-symphony",
      "metadata": {
        "id": "disciplinary-symphony"
      },
      "outputs": [],
      "source": []
    },
    {
      "cell_type": "code",
      "execution_count": null,
      "id": "falling-plant",
      "metadata": {
        "id": "falling-plant"
      },
      "outputs": [],
      "source": []
    },
    {
      "cell_type": "code",
      "execution_count": null,
      "id": "headed-equity",
      "metadata": {
        "id": "headed-equity"
      },
      "outputs": [],
      "source": []
    },
    {
      "cell_type": "markdown",
      "id": "complete-oxide",
      "metadata": {
        "id": "complete-oxide"
      },
      "source": [
        "#### True **Population Mean**"
      ]
    },
    {
      "cell_type": "code",
      "execution_count": null,
      "id": "independent-trigger",
      "metadata": {
        "id": "independent-trigger"
      },
      "outputs": [],
      "source": []
    },
    {
      "cell_type": "markdown",
      "id": "significant-slovakia",
      "metadata": {
        "id": "significant-slovakia"
      },
      "source": [
        "### Sample size: 100"
      ]
    },
    {
      "cell_type": "markdown",
      "id": "broadband-preliminary",
      "metadata": {
        "id": "broadband-preliminary"
      },
      "source": [
        "1. Get a sample S from the population"
      ]
    },
    {
      "cell_type": "code",
      "execution_count": null,
      "id": "introductory-mystery",
      "metadata": {
        "id": "introductory-mystery"
      },
      "outputs": [],
      "source": []
    },
    {
      "cell_type": "code",
      "execution_count": null,
      "id": "exotic-bullet",
      "metadata": {
        "id": "exotic-bullet"
      },
      "outputs": [],
      "source": []
    },
    {
      "cell_type": "markdown",
      "id": "precise-internship",
      "metadata": {
        "id": "precise-internship"
      },
      "source": [
        "2. Repeat k times:<br/>\n",
        "    2.1. Generate a bootstrap sample by **resampling S**<br/>\n",
        "    2.2. Calculate the desired statistic for the bootstrap sample"
      ]
    },
    {
      "cell_type": "code",
      "execution_count": null,
      "id": "african-stevens",
      "metadata": {
        "id": "african-stevens"
      },
      "outputs": [],
      "source": []
    },
    {
      "cell_type": "markdown",
      "id": "twelve-visitor",
      "metadata": {
        "id": "twelve-visitor"
      },
      "source": [
        "3. Build the sampling distribution for the statistic"
      ]
    },
    {
      "cell_type": "code",
      "execution_count": null,
      "id": "sexual-assist",
      "metadata": {
        "id": "sexual-assist"
      },
      "outputs": [],
      "source": []
    },
    {
      "cell_type": "markdown",
      "id": "funky-andrews",
      "metadata": {
        "id": "funky-andrews"
      },
      "source": [
        "4. Compute the interval around the mean with the concentration of c% observations/values<br/>\n",
        "    4.1. c% is the confidence level = 1 – α<br/>\n",
        "    4.2. The interval consists of the α/2 percentile and (1 - α/2) percentile <br/>\n",
        "    4.3. Thus, just sort the statistics and return the values of theses percentiles"
      ]
    },
    {
      "cell_type": "markdown",
      "id": "civilian-stanley",
      "metadata": {
        "id": "civilian-stanley"
      },
      "source": [
        "### ALTERNATIVE 1"
      ]
    },
    {
      "cell_type": "code",
      "execution_count": null,
      "id": "canadian-stress",
      "metadata": {
        "id": "canadian-stress"
      },
      "outputs": [],
      "source": []
    },
    {
      "cell_type": "markdown",
      "id": "vanilla-destination",
      "metadata": {
        "id": "vanilla-destination"
      },
      "source": [
        "### ALTERNATIVE 2"
      ]
    },
    {
      "cell_type": "code",
      "execution_count": null,
      "id": "simplified-particular",
      "metadata": {
        "id": "simplified-particular"
      },
      "outputs": [],
      "source": []
    },
    {
      "cell_type": "markdown",
      "id": "compound-contribution",
      "metadata": {
        "id": "compound-contribution"
      },
      "source": [
        "#### Boostrap Sampling Distribution Mean"
      ]
    },
    {
      "cell_type": "code",
      "execution_count": null,
      "id": "addressed-treasurer",
      "metadata": {
        "id": "addressed-treasurer"
      },
      "outputs": [],
      "source": []
    },
    {
      "cell_type": "markdown",
      "id": "median-costume",
      "metadata": {
        "id": "median-costume"
      },
      "source": [
        "### Sample size: 1000"
      ]
    },
    {
      "cell_type": "markdown",
      "id": "aging-supplier",
      "metadata": {
        "id": "aging-supplier"
      },
      "source": [
        "1. Get a sample S from the population"
      ]
    },
    {
      "cell_type": "code",
      "execution_count": null,
      "id": "derived-dream",
      "metadata": {
        "id": "derived-dream"
      },
      "outputs": [],
      "source": []
    },
    {
      "cell_type": "markdown",
      "id": "romance-profile",
      "metadata": {
        "id": "romance-profile"
      },
      "source": [
        "2. Repeat k times:<br/>\n",
        "    2.1. Generate a bootstrap sample by **resampling S**<br/>\n",
        "    2.2. Calculate the desired statistic for the bootstrap sample <br/>\n",
        "3. Build the sampling distribution for the statistic"
      ]
    },
    {
      "cell_type": "code",
      "execution_count": null,
      "id": "popular-minute",
      "metadata": {
        "id": "popular-minute"
      },
      "outputs": [],
      "source": []
    },
    {
      "cell_type": "code",
      "execution_count": null,
      "id": "formed-flower",
      "metadata": {
        "id": "formed-flower"
      },
      "outputs": [],
      "source": []
    },
    {
      "cell_type": "markdown",
      "id": "hundred-mixer",
      "metadata": {
        "id": "hundred-mixer"
      },
      "source": [
        "4. Compute the interval around the mean with the concentration of c% observations/values<br/>\n",
        "    4.1. c% is the confidence level = 1 – α<br/>\n",
        "    4.2. The interval consists of the α/2 percentile and (1 - α/2) percentile <br/>\n",
        "    4.3. Thus, just sort the statistics and return the values of theses percentiles"
      ]
    },
    {
      "cell_type": "code",
      "execution_count": null,
      "id": "dirty-broadway",
      "metadata": {
        "id": "dirty-broadway"
      },
      "outputs": [],
      "source": []
    },
    {
      "cell_type": "markdown",
      "id": "linear-stereo",
      "metadata": {
        "id": "linear-stereo"
      },
      "source": [
        "#### Boostrap Sampling Distribution Mean"
      ]
    },
    {
      "cell_type": "code",
      "execution_count": null,
      "id": "hired-cruise",
      "metadata": {
        "id": "hired-cruise"
      },
      "outputs": [],
      "source": []
    },
    {
      "cell_type": "markdown",
      "id": "diagnostic-gospel",
      "metadata": {
        "id": "diagnostic-gospel"
      },
      "source": [
        "# 6. Comparing the Calculated 95% Confidence Intervals"
      ]
    },
    {
      "cell_type": "code",
      "execution_count": null,
      "id": "physical-newton",
      "metadata": {
        "id": "physical-newton"
      },
      "outputs": [],
      "source": []
    }
  ],
  "metadata": {
    "kernelspec": {
      "display_name": "Python 3",
      "language": "python",
      "name": "python3"
    },
    "language_info": {
      "codemirror_mode": {
        "name": "ipython",
        "version": 3
      },
      "file_extension": ".py",
      "mimetype": "text/x-python",
      "name": "python",
      "nbconvert_exporter": "python",
      "pygments_lexer": "ipython3",
      "version": "3.8.5"
    },
    "colab": {
      "provenance": [],
      "include_colab_link": true
    }
  },
  "nbformat": 4,
  "nbformat_minor": 5
}