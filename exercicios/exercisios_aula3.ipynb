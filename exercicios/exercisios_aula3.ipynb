{
 "cells": [
  {
   "cell_type": "code",
   "execution_count": 10,
   "metadata": {},
   "outputs": [
    {
     "name": "stdout",
     "output_type": "stream",
     "text": [
      "soma: 9\n",
      "subtracao: -1\n",
      "multiplicacao: 20\n",
      "divisao: 0.8\n"
     ]
    }
   ],
   "source": [
    "import math\n",
    "    \n",
    "num1 = int(input(\"digite o primeiro\"))\n",
    "num2 = int(input(\"digite o segundo\"))\n",
    "\n",
    "soma = num1 + num2\n",
    "\n",
    "subtracao = num1 - num2\n",
    "\n",
    "multiplicacao = num1 * num2\n",
    "\n",
    "if num2 != 0:\n",
    "    divisao = num1 / num2\n",
    "else:\n",
    "    divisão = \"impossível dividir por zero\"\n",
    "\n",
    "print(f\"soma: {soma}\")\n",
    "print(f\"subtracao: {subtracao}\")\n",
    "print(f\"multiplicacao: {multiplicacao}\")\n",
    "print(f\"divisao: {divisao}\")"
   ]
  },
  {
   "cell_type": "code",
   "execution_count": 14,
   "metadata": {},
   "outputs": [
    {
     "name": "stdout",
     "output_type": "stream",
     "text": [
      "o número é ímpar\n"
     ]
    }
   ],
   "source": [
    "import math\n",
    "\n",
    "num = int(input(\"digite um número\"))\n",
    "if num % 2 == 0:\n",
    "    print(\"o número é par\")\n",
    "else:\n",
    "    print(\"o número é ímpar\")"
   ]
  },
  {
   "cell_type": "code",
   "execution_count": 1,
   "metadata": {},
   "outputs": [
    {
     "name": "stdout",
     "output_type": "stream",
     "text": [
      "10\n",
      "20\n",
      "30\n",
      "40\n",
      "50\n",
      "quantidade de elementos: 5\n"
     ]
    }
   ],
   "source": [
    "# Definindo a lista de números\n",
    "numeros = [10, 20, 30, 40, 50]\n",
    "\n",
    "# percorrendo a lista e imprimindo cada elemento\n",
    "for numero in numeros:\n",
    "    print(numero)\n",
    "\n",
    "#contando e imprimindo a quantidade total de elementos\n",
    "quantidade = len(numeros)\n",
    "print(f\"quantidade de elementos: {quantidade}\")"
   ]
  },
  {
   "cell_type": "code",
   "execution_count": 3,
   "metadata": {},
   "outputs": [
    {
     "name": "stdout",
     "output_type": "stream",
     "text": [
      "frase invertida:  oaoj\n"
     ]
    }
   ],
   "source": [
    "def inverter_string(texto):\n",
    "    return texto[::-1]\n",
    "\n",
    "frase = input(\"digite uma frase: \")\n",
    "\n",
    "resultado = inverter_string(frase)\n",
    "print(\"frase invertida: \", resultado)"
   ]
  }
 ],
 "metadata": {
  "kernelspec": {
   "display_name": "venv",
   "language": "python",
   "name": "python3"
  },
  "language_info": {
   "codemirror_mode": {
    "name": "ipython",
    "version": 3
   },
   "file_extension": ".py",
   "mimetype": "text/x-python",
   "name": "python",
   "nbconvert_exporter": "python",
   "pygments_lexer": "ipython3",
   "version": "3.12.3"
  }
 },
 "nbformat": 4,
 "nbformat_minor": 2
}
