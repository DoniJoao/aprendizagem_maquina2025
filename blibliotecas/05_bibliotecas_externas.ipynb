{
 "cells": [
  {
   "cell_type": "markdown",
   "metadata": {},
   "source": [
    "## **Revisão de Python**\n",
    "### Com foco em Machine Learning"
   ]
  },
  {
   "cell_type": "markdown",
   "metadata": {},
   "source": [
    "## Módulos externas"
   ]
  },
  {
   "cell_type": "markdown",
   "metadata": {},
   "source": [
    "#### Importando um módulo (biblioteca)"
   ]
  },
  {
   "cell_type": "code",
   "execution_count": 1,
   "metadata": {},
   "outputs": [],
   "source": [
    "import math"
   ]
  },
  {
   "cell_type": "code",
   "execution_count": 2,
   "metadata": {},
   "outputs": [
    {
     "data": {
      "text/plain": [
       "1024.0"
      ]
     },
     "execution_count": 2,
     "metadata": {},
     "output_type": "execute_result"
    }
   ],
   "source": [
    "math.pow(2,10)"
   ]
  },
  {
   "cell_type": "markdown",
   "metadata": {},
   "source": [
    "#### Atribuindo um nome diferente (alias) a um modulo importado"
   ]
  },
  {
   "cell_type": "code",
   "execution_count": 3,
   "metadata": {},
   "outputs": [],
   "source": [
    "import random as ran"
   ]
  },
  {
   "cell_type": "code",
   "execution_count": 4,
   "metadata": {},
   "outputs": [
    {
     "data": {
      "text/plain": [
       "14"
      ]
     },
     "execution_count": 4,
     "metadata": {},
     "output_type": "execute_result"
    }
   ],
   "source": [
    "ran.randint(0,60)"
   ]
  },
  {
   "cell_type": "code",
   "execution_count": 5,
   "metadata": {},
   "outputs": [
    {
     "name": "stdout",
     "output_type": "stream",
     "text": [
      "Help on method randint in module random:\n",
      "\n",
      "randint(a, b) method of random.Random instance\n",
      "    Return random integer in range [a, b], including both end points.\n",
      "\n"
     ]
    }
   ],
   "source": [
    "help(ran.randint)"
   ]
  },
  {
   "cell_type": "code",
   "execution_count": 8,
   "metadata": {},
   "outputs": [
    {
     "name": "stdout",
     "output_type": "stream",
     "text": [
      "Collecting numpy\n",
      "  Downloading numpy-2.2.3-cp312-cp312-manylinux_2_17_x86_64.manylinux2014_x86_64.whl.metadata (62 kB)\n",
      "\u001b[2K     \u001b[90m━━━━━━━━━━━━━━━━━━━━━━━━━━━━━━━━━━━━━━━\u001b[0m \u001b[32m62.0/62.0 kB\u001b[0m \u001b[31m268.5 kB/s\u001b[0m eta \u001b[36m0:00:00\u001b[0m00:01\u001b[0m00:01\u001b[0m\n",
      "\u001b[?25hDownloading numpy-2.2.3-cp312-cp312-manylinux_2_17_x86_64.manylinux2014_x86_64.whl (16.1 MB)\n",
      "\u001b[2K   \u001b[90m━━━━━━━━━━━━━━━━━━━━━━━━━━━━━━━━━━━━━━━━\u001b[0m \u001b[32m16.1/16.1 MB\u001b[0m \u001b[31m2.6 MB/s\u001b[0m eta \u001b[36m0:00:00\u001b[0m00:01\u001b[0m00:01\u001b[0m\n",
      "\u001b[?25hInstalling collected packages: numpy\n",
      "Successfully installed numpy-2.2.3\n"
     ]
    }
   ],
   "source": [
    "!pip install numpy"
   ]
  },
  {
   "cell_type": "code",
   "execution_count": 9,
   "metadata": {},
   "outputs": [],
   "source": [
    "import numpy as np"
   ]
  },
  {
   "cell_type": "code",
   "execution_count": 10,
   "metadata": {},
   "outputs": [
    {
     "data": {
      "text/plain": [
       "array([0, 1, 2, 3, 4, 5, 6, 7, 8, 9])"
      ]
     },
     "execution_count": 10,
     "metadata": {},
     "output_type": "execute_result"
    }
   ],
   "source": [
    "np.arange(10)"
   ]
  },
  {
   "cell_type": "markdown",
   "metadata": {},
   "source": [
    "#### Importando apenas algumas \"coisas\" (funções, atributos, constantes, ...) de um módulo\n",
    "Deixa todas as \"coisas\" acessíveis sem a necessidade de chamar `modulo.coisa`"
   ]
  },
  {
   "cell_type": "code",
   "execution_count": 12,
   "metadata": {},
   "outputs": [
    {
     "name": "stdout",
     "output_type": "stream",
     "text": [
      "3.141592653589793\n",
      "1.0\n",
      "12.0\n"
     ]
    }
   ],
   "source": [
    "from math import pi, pow, log2, sqrt\n",
    "print(pi)\n",
    "print(pow(2,0))\n",
    "print(sqrt(144))"
   ]
  },
  {
   "cell_type": "markdown",
   "metadata": {},
   "source": [
    "#### Importando todas as \"coisas\" (funções, atributos, constantes, ...) de um módulo"
   ]
  },
  {
   "cell_type": "code",
   "execution_count": 13,
   "metadata": {},
   "outputs": [
    {
     "data": {
      "text/plain": [
       "2.0"
      ]
     },
     "execution_count": 13,
     "metadata": {},
     "output_type": "execute_result"
    }
   ],
   "source": [
    "from math import *\n",
    "log10(100)"
   ]
  },
  {
   "cell_type": "markdown",
   "metadata": {},
   "source": [
    "Apesar de possívels, tal prática **não é indicada**, uma vez que (1) \"coisas\", p. ex., de módulos diferentes mas de mesmo nome podem ser importadas, e (2) pode não haver necessidade de ter acesso a todas as \"coisas\" do módulo."
   ]
  },
  {
   "cell_type": "markdown",
   "metadata": {},
   "source": [
    "### Submódulos\n",
    "Alguns módulos podem possuir **submódulo**:"
   ]
  },
  {
   "cell_type": "code",
   "execution_count": 14,
   "metadata": {},
   "outputs": [],
   "source": [
    "import numpy as np"
   ]
  },
  {
   "cell_type": "code",
   "execution_count": 15,
   "metadata": {},
   "outputs": [
    {
     "data": {
      "text/plain": [
       "<module 'numpy.random' from '/home/donijoao/MEGA/Cloud Drive/FATEC/2-Aprendizagem de Maquina/aula3/blibliotecas/venv/lib/python3.12/site-packages/numpy/random/__init__.py'>"
      ]
     },
     "execution_count": 15,
     "metadata": {},
     "output_type": "execute_result"
    }
   ],
   "source": [
    "np.random"
   ]
  },
  {
   "cell_type": "code",
   "execution_count": 18,
   "metadata": {},
   "outputs": [
    {
     "data": {
      "text/plain": [
       "31"
      ]
     },
     "execution_count": 18,
     "metadata": {},
     "output_type": "execute_result"
    }
   ],
   "source": [
    "import numpy.random as nprandom\n",
    "nprandom.randint(0,60)"
   ]
  },
  {
   "cell_type": "code",
   "execution_count": 19,
   "metadata": {},
   "outputs": [
    {
     "data": {
      "text/plain": [
       "55"
      ]
     },
     "execution_count": 19,
     "metadata": {},
     "output_type": "execute_result"
    }
   ],
   "source": [
    "from numpy import random\n",
    "random.randint(0,60)"
   ]
  },
  {
   "cell_type": "code",
   "execution_count": 21,
   "metadata": {},
   "outputs": [
    {
     "data": {
      "text/plain": [
       "49"
      ]
     },
     "execution_count": 21,
     "metadata": {},
     "output_type": "execute_result"
    }
   ],
   "source": [
    "from numpy import random as npr\n",
    "npr.randint(0,60)"
   ]
  },
  {
   "cell_type": "markdown",
   "metadata": {},
   "source": [
    "### Módulos Uteis"
   ]
  },
  {
   "cell_type": "markdown",
   "metadata": {},
   "source": [
    "- `os`: funções do sistema operacional\n",
    "- `glob`: funções para criar listas a partir de diretórios do sistema\n",
    "- `shutil`: funções para gerenciar arquivos e diretórios\n",
    "- `math`: funções matemáticas\n",
    "- `random`: geradores de números aleatórios\n",
    "- `pickle`: protocolos para (de-)serialização de dados de entrada e saída"
   ]
  },
  {
   "cell_type": "code",
   "execution_count": 22,
   "metadata": {},
   "outputs": [
    {
     "name": "stdout",
     "output_type": "stream",
     "text": [
      "environ({'CHROME_DESKTOP': 'code.desktop', 'CLUTTER_BACKEND': 'x11', 'CLUTTER_IM_MODULE': 'ibus', 'DBUS_SESSION_BUS_ADDRESS': 'unix:path=/run/user/1000/bus', 'DESKTOP_SESSION': 'xubuntu', 'DISPLAY': ':0', 'GDK_BACKEND': 'x11', 'GDMSESSION': 'xubuntu', 'GDM_LANG': 'pt_BR', 'GIO_LAUNCHED_DESKTOP_FILE': '/usr/share/applications/code.desktop', 'GIO_LAUNCHED_DESKTOP_FILE_PID': '27909', 'GNOME_KEYRING_CONTROL': '/run/user/1000/keyring', 'GPG_AGENT_INFO': '/run/user/1000/gnupg/S.gpg-agent:0:1', 'GTK_IM_MODULE': 'ibus', 'GTK_OVERLAY_SCROLLING': '0', 'HOME': '/home/donijoao', 'LANG': 'pt_BR.UTF-8', 'LANGUAGE': 'pt_BR', 'LC_ADDRESS': 'C.UTF-8', 'LC_IDENTIFICATION': 'C.UTF-8', 'LC_MEASUREMENT': 'C.UTF-8', 'LC_MONETARY': 'C.UTF-8', 'LC_NAME': 'C.UTF-8', 'LC_NUMERIC': 'C.UTF-8', 'LC_PAPER': 'C.UTF-8', 'LC_TELEPHONE': 'C.UTF-8', 'LC_TIME': 'C.UTF-8', 'LESSCLOSE': '/usr/bin/lesspipe %s %s', 'LESSOPEN': '| /usr/bin/lesspipe %s', 'LOGNAME': 'donijoao', 'ORIGINAL_XDG_CURRENT_DESKTOP': 'XFCE', 'PAPERSIZE': 'a4', 'PATH': '/home/donijoao/MEGA/Cloud Drive/FATEC/2-Aprendizagem de Maquina/aula3/blibliotecas/venv/bin:/usr/local/sbin:/usr/local/bin:/usr/sbin:/usr/bin:/sbin:/bin:/usr/games:/usr/local/games:/snap/bin', 'PWD': '/home/donijoao/MEGA/Cloud Drive/FATEC/2-Aprendizagem de Maquina/aula3', 'QT_ACCESSIBILITY': '1', 'QT_IM_MODULE': 'ibus', 'QT_QPA_PLATFORMTHEME': 'gtk2', 'SESSION_MANAGER': 'local/donijoao-X45C:@/tmp/.ICE-unix/1974,unix/donijoao-X45C:/tmp/.ICE-unix/1974', 'SHELL': '/bin/bash', 'SHLVL': '0', 'SSH_AUTH_SOCK': '/run/user/1000/keyring/ssh', 'USER': 'donijoao', 'VSCODE_CODE_CACHE_PATH': '/home/donijoao/.config/Code/CachedData/e54c774e0add60467559eb0d1e229c6452cf8447', 'VSCODE_CRASH_REPORTER_PROCESS_TYPE': 'extensionHost', 'VSCODE_CWD': '/home/donijoao/MEGA/Cloud Drive/FATEC/Aprendizagem de Maquina/aula3', 'VSCODE_ESM_ENTRYPOINT': 'vs/workbench/api/node/extensionHostProcess', 'VSCODE_HANDLES_UNCAUGHT_ERRORS': 'true', 'VSCODE_IPC_HOOK': '/run/user/1000/vscode-b8ea9127-1.97-main.sock', 'VSCODE_NLS_CONFIG': '{\"userLocale\":\"pt-br\",\"osLocale\":\"pt-br\",\"resolvedLanguage\":\"pt-br\",\"defaultMessagesFile\":\"/usr/share/code/resources/app/out/nls.messages.json\",\"languagePack\":{\"translationsConfigFile\":\"/home/donijoao/.config/Code/clp/1268548040a373e9a7e73380c2d05ed5.pt-br/tcf.json\",\"messagesFile\":\"/home/donijoao/.config/Code/clp/1268548040a373e9a7e73380c2d05ed5.pt-br/e54c774e0add60467559eb0d1e229c6452cf8447/nls.messages.json\",\"corruptMarkerFile\":\"/home/donijoao/.config/Code/clp/1268548040a373e9a7e73380c2d05ed5.pt-br/corrupted.info\"},\"locale\":\"pt-br\",\"availableLanguages\":{\"*\":\"pt-br\"},\"_languagePackId\":\"1268548040a373e9a7e73380c2d05ed5.pt-br\",\"_languagePackSupport\":true,\"_translationsConfigFile\":\"/home/donijoao/.config/Code/clp/1268548040a373e9a7e73380c2d05ed5.pt-br/tcf.json\",\"_cacheRoot\":\"/home/donijoao/.config/Code/clp/1268548040a373e9a7e73380c2d05ed5.pt-br\",\"_resolvedLanguagePackCoreLocation\":\"/home/donijoao/.config/Code/clp/1268548040a373e9a7e73380c2d05ed5.pt-br/e54c774e0add60467559eb0d1e229c6452cf8447\",\"_corruptedFile\":\"/home/donijoao/.config/Code/clp/1268548040a373e9a7e73380c2d05ed5.pt-br/corrupted.info\"}', 'VSCODE_PID': '27909', 'XAUTHORITY': '/home/donijoao/.Xauthority', 'XDG_CONFIG_DIRS': '/etc/xdg/xdg-xubuntu:/etc/xdg', 'XDG_CURRENT_DESKTOP': 'XFCE', 'XDG_DATA_DIRS': '/usr/share/xubuntu:/usr/share/xfce4:/home/donijoao/.local/share/flatpak/exports/share:/var/lib/flatpak/exports/share:/usr/local/share:/usr/share:/var/lib/snapd/desktop:/usr/share', 'XDG_GREETER_DATA_DIR': '/var/lib/lightdm-data/donijoao', 'XDG_MENU_PREFIX': 'xfce-', 'XDG_RUNTIME_DIR': '/run/user/1000', 'XDG_SEAT': 'seat0', 'XDG_SEAT_PATH': '/org/freedesktop/DisplayManager/Seat0', 'XDG_SESSION_CLASS': 'user', 'XDG_SESSION_DESKTOP': 'xubuntu', 'XDG_SESSION_ID': 'c2', 'XDG_SESSION_PATH': '/org/freedesktop/DisplayManager/Session0', 'XDG_SESSION_TYPE': 'x11', 'XDG_VTNR': '7', 'XMODIFIERS': '@im=ibus', '_': '/home/donijoao/MEGA/Cloud Drive/FATEC/2-Aprendizagem de Maquina/aula3/blibliotecas/venv/bin/python', 'ELECTRON_RUN_AS_NODE': '1', 'PYTHONUNBUFFERED': '1', 'VIRTUAL_ENV': '/home/donijoao/MEGA/Cloud Drive/FATEC/2-Aprendizagem de Maquina/aula3/blibliotecas/venv', 'PYTHONIOENCODING': 'utf-8', 'VIRTUAL_ENV_PROMPT': '(venv) ', 'PS1': '(venv) ', 'PYDEVD_IPYTHON_COMPATIBLE_DEBUGGING': '1', 'PYTHON_FROZEN_MODULES': 'on', 'PYDEVD_USE_FRAME_EVAL': 'NO', 'TERM': 'xterm-color', 'CLICOLOR': '1', 'FORCE_COLOR': '1', 'CLICOLOR_FORCE': '1', 'PAGER': 'cat', 'GIT_PAGER': 'cat', 'MPLBACKEND': 'module://matplotlib_inline.backend_inline'})\n"
     ]
    }
   ],
   "source": [
    "import os\n",
    "print(os.environ)"
   ]
  },
  {
   "cell_type": "code",
   "execution_count": 23,
   "metadata": {},
   "outputs": [
    {
     "name": "stdout",
     "output_type": "stream",
     "text": [
      "/home/donijoao/MEGA/Cloud Drive/FATEC/2-Aprendizagem de Maquina/aula3/blibliotecas\n"
     ]
    }
   ],
   "source": [
    "print(os.getcwd())"
   ]
  },
  {
   "cell_type": "code",
   "execution_count": 33,
   "metadata": {},
   "outputs": [],
   "source": [
    "nv_caminho = '/home/donijoao/MEGA/Cloud Drive/FATEC/2-Aprendizagem de Maquina/aula3/blibliotecas/teste'\n",
    "os.mkdir(nv_caminho)"
   ]
  },
  {
   "cell_type": "code",
   "execution_count": 26,
   "metadata": {},
   "outputs": [
    {
     "name": "stdout",
     "output_type": "stream",
     "text": [
      "['05_bibliotecas_externas.ipynb', 'venv']\n"
     ]
    }
   ],
   "source": [
    "print(os.listdir())"
   ]
  },
  {
   "cell_type": "code",
   "execution_count": 28,
   "metadata": {},
   "outputs": [
    {
     "name": "stdout",
     "output_type": "stream",
     "text": [
      "['05_bibliotecas_externas.ipynb']\n"
     ]
    }
   ],
   "source": [
    "import glob\n",
    "arquivos_txt = glob.glob('**/*.ipynb', recursive=True)\n",
    "print(arquivos_txt)"
   ]
  },
  {
   "cell_type": "markdown",
   "metadata": {},
   "source": [
    "### Outros Tópicos"
   ]
  },
  {
   "cell_type": "markdown",
   "metadata": {},
   "source": [
    "- Manipulação de arquivos\n",
    "- Orientação a objetos\n",
    "    - Classes\n",
    "    - Objetos\n",
    "    - Métodos, métodos estáticos\n",
    "    - Herança\n",
    "- Básico da biblioteca `numpy`\n",
    "- Básico da biblioteca `matplotlib`"
   ]
  },
  {
   "cell_type": "code",
   "execution_count": null,
   "metadata": {},
   "outputs": [],
   "source": []
  }
 ],
 "metadata": {
  "kernelspec": {
   "display_name": "venv",
   "language": "python",
   "name": "python3"
  },
  "language_info": {
   "codemirror_mode": {
    "name": "ipython",
    "version": 3
   },
   "file_extension": ".py",
   "mimetype": "text/x-python",
   "name": "python",
   "nbconvert_exporter": "python",
   "pygments_lexer": "ipython3",
   "version": "3.12.3"
  }
 },
 "nbformat": 4,
 "nbformat_minor": 4
}
